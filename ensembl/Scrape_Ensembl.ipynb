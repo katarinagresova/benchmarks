{
  "nbformat": 4,
  "nbformat_minor": 0,
  "metadata": {
    "colab": {
      "name": "Scrape_Ensembl.ipynb",
      "provenance": [],
      "toc_visible": true,
      "authorship_tag": "ABX9TyOmxz55GwWC5aSWt5ewHEAk",
      "include_colab_link": true
    },
    "kernelspec": {
      "name": "python3",
      "display_name": "Python 3"
    }
  },
  "cells": [
    {
      "cell_type": "markdown",
      "metadata": {
        "id": "view-in-github",
        "colab_type": "text"
      },
      "source": [
        "<a href=\"https://colab.research.google.com/github/katarinagresova/benchmarks/blob/main/ensembl/Scrape_Ensembl.ipynb\" target=\"_parent\"><img src=\"https://colab.research.google.com/assets/colab-badge.svg\" alt=\"Open In Colab\"/></a>"
      ]
    },
    {
      "cell_type": "markdown",
      "metadata": {
        "id": "CsRf2_7jLK8y"
      },
      "source": [
        "#Setup"
      ]
    },
    {
      "cell_type": "code",
      "metadata": {
        "id": "V-8Kw4sVJKZp"
      },
      "source": [
        "!pip install biopython\n",
        "!pip install apybiomart\n",
        "!pip install ensembl_rest"
      ],
      "execution_count": null,
      "outputs": []
    },
    {
      "cell_type": "code",
      "metadata": {
        "id": "L7XemNlEJdO2"
      },
      "source": [
        "import apybiomart as apy\n",
        "import numpy as np\n",
        "import os\n",
        "from Bio.Seq import Seq\n",
        "from Bio import SeqIO\n",
        "from Bio.SeqRecord import SeqRecord"
      ],
      "execution_count": 35,
      "outputs": []
    },
    {
      "cell_type": "code",
      "metadata": {
        "colab": {
          "base_uri": "https://localhost:8080/"
        },
        "id": "XAHN8NToc6NR",
        "outputId": "5f186a85-8ae3-40fe-e897-29cfe014aee9"
      },
      "source": [
        "from google.colab import drive\n",
        "drive.mount('/content/drive/')"
      ],
      "execution_count": 2,
      "outputs": [
        {
          "output_type": "stream",
          "text": [
            "Mounted at /content/drive/\n"
          ],
          "name": "stdout"
        }
      ]
    },
    {
      "cell_type": "markdown",
      "metadata": {
        "id": "p2FPGr3nLN_Q"
      },
      "source": [
        "#Examine BioMart API"
      ]
    },
    {
      "cell_type": "code",
      "metadata": {
        "id": "ywb1Fs4xJff0"
      },
      "source": [
        "apy.find_marts()"
      ],
      "execution_count": null,
      "outputs": []
    },
    {
      "cell_type": "code",
      "metadata": {
        "id": "KJnjNzW9Jy4N"
      },
      "source": [
        "apy.find_datasets(mart=\"ENSEMBL_MART_FUNCGEN\")"
      ],
      "execution_count": null,
      "outputs": []
    },
    {
      "cell_type": "markdown",
      "metadata": {
        "id": "QOBARHJGLe52"
      },
      "source": [
        "#Download data"
      ]
    },
    {
      "cell_type": "code",
      "metadata": {
        "id": "QdSSNg24Rh9C"
      },
      "source": [
        "def dump_dataset(dataset, output_path=\"\", filters={}):\n",
        "  output_path = dataset + \".csv\" if output_path == \"\" else output_path\n",
        "  attr = apy.find_attributes(dataset=dataset)\n",
        "  return apy.query(\n",
        "    attributes=np.array(attr['Attribute_ID']),\n",
        "    filters=filters,\n",
        "    dataset=dataset,\n",
        "    save=True,\n",
        "    output=output_path\n",
        ")"
      ],
      "execution_count": 3,
      "outputs": []
    },
    {
      "cell_type": "code",
      "metadata": {
        "id": "g6UFtIdDaiEc"
      },
      "source": [
        "# this is needed in Google Colab, because it runs on asyncio and we want to run another asyncio inside\n",
        "import nest_asyncio\n",
        "import asyncio\n",
        "nest_asyncio.apply()\n",
        "\n",
        "def dump_dataset_async(dataset, output_path=\"\"):\n",
        "  output_path = os.path.join(output_dir, dataset + \".csv\")\n",
        "  loop = asyncio.get_event_loop()\n",
        "  attr = apy.find_attributes(dataset=dataset)\n",
        "  feature_types = [\n",
        "      \"CTFC Binding Site\",\n",
        "      \"Enhancer\",\n",
        "      \"Open chromatin\",\n",
        "      \"Promoter\",\n",
        "      \"Promoter Flanking Region\",\n",
        "      \"TF binding site\"\n",
        "  ]\n",
        "  tasks = [\n",
        "      apy.aquery(\n",
        "          attributes=np.array(attr['Attribute_ID']),\n",
        "          filters={\n",
        "              \"chromosome_name\": str(i)\n",
        "          },\n",
        "          dataset=dataset,\n",
        "          save=True,\n",
        "          output=output_path\n",
        "      )\n",
        "      for i in range(23)\n",
        "  ]\n",
        "  return loop.run_until_complete(asyncio.gather(*tasks))"
      ],
      "execution_count": 9,
      "outputs": []
    },
    {
      "cell_type": "markdown",
      "metadata": {
        "id": "OHSjYIB9RNOn"
      },
      "source": [
        "### hsapiens_external_feature"
      ]
    },
    {
      "cell_type": "code",
      "metadata": {
        "id": "GimzXaMWKeXc"
      },
      "source": [
        "dataset=\"hsapiens_external_feature\""
      ],
      "execution_count": 4,
      "outputs": []
    },
    {
      "cell_type": "code",
      "metadata": {
        "colab": {
          "base_uri": "https://localhost:8080/",
          "height": 506
        },
        "id": "B-NlXqK3N4hZ",
        "outputId": "5f2c2aab-bcb6-4e3b-d4ef-84c808a55266"
      },
      "source": [
        "apy.find_attributes(dataset=dataset)"
      ],
      "execution_count": 11,
      "outputs": [
        {
          "output_type": "stream",
          "text": [
            "/usr/local/lib/python3.6/dist-packages/apybiomart/classes.py:210: FutureWarning: The pandas.np module is deprecated and will be removed from pandas in a future version. Import numpy directly instead\n",
            "  df.replace(pd.np.nan, \"\", inplace=True)\n"
          ],
          "name": "stderr"
        },
        {
          "output_type": "execute_result",
          "data": {
            "text/html": [
              "<div>\n",
              "<style scoped>\n",
              "    .dataframe tbody tr th:only-of-type {\n",
              "        vertical-align: middle;\n",
              "    }\n",
              "\n",
              "    .dataframe tbody tr th {\n",
              "        vertical-align: top;\n",
              "    }\n",
              "\n",
              "    .dataframe thead th {\n",
              "        text-align: right;\n",
              "    }\n",
              "</style>\n",
              "<table border=\"1\" class=\"dataframe\">\n",
              "  <thead>\n",
              "    <tr style=\"text-align: right;\">\n",
              "      <th></th>\n",
              "      <th>Attribute_ID</th>\n",
              "      <th>Attribute_name</th>\n",
              "      <th>Attribute_description</th>\n",
              "      <th>Dataset_ID</th>\n",
              "    </tr>\n",
              "  </thead>\n",
              "  <tbody>\n",
              "    <tr>\n",
              "      <th>0</th>\n",
              "      <td>chromosome_name</td>\n",
              "      <td>Chromosome/scaffold Name</td>\n",
              "      <td></td>\n",
              "      <td>hsapiens_external_feature</td>\n",
              "    </tr>\n",
              "    <tr>\n",
              "      <th>1</th>\n",
              "      <td>chromosome_start</td>\n",
              "      <td>Start (bp)</td>\n",
              "      <td></td>\n",
              "      <td>hsapiens_external_feature</td>\n",
              "    </tr>\n",
              "    <tr>\n",
              "      <th>2</th>\n",
              "      <td>chromosome_end</td>\n",
              "      <td>End (bp)</td>\n",
              "      <td></td>\n",
              "      <td>hsapiens_external_feature</td>\n",
              "    </tr>\n",
              "    <tr>\n",
              "      <th>3</th>\n",
              "      <td>feature_type</td>\n",
              "      <td>Feature type</td>\n",
              "      <td></td>\n",
              "      <td>hsapiens_external_feature</td>\n",
              "    </tr>\n",
              "    <tr>\n",
              "      <th>4</th>\n",
              "      <td>feature_type_class</td>\n",
              "      <td>Feature type class</td>\n",
              "      <td></td>\n",
              "      <td>hsapiens_external_feature</td>\n",
              "    </tr>\n",
              "    <tr>\n",
              "      <th>5</th>\n",
              "      <td>feature_type_description</td>\n",
              "      <td>Feature type description</td>\n",
              "      <td></td>\n",
              "      <td>hsapiens_external_feature</td>\n",
              "    </tr>\n",
              "    <tr>\n",
              "      <th>6</th>\n",
              "      <td>display_label</td>\n",
              "      <td>Identifier</td>\n",
              "      <td></td>\n",
              "      <td>hsapiens_external_feature</td>\n",
              "    </tr>\n",
              "    <tr>\n",
              "      <th>7</th>\n",
              "      <td>so_accession</td>\n",
              "      <td>SO term accession</td>\n",
              "      <td></td>\n",
              "      <td>hsapiens_external_feature</td>\n",
              "    </tr>\n",
              "    <tr>\n",
              "      <th>8</th>\n",
              "      <td>so_name</td>\n",
              "      <td>SO term name</td>\n",
              "      <td></td>\n",
              "      <td>hsapiens_external_feature</td>\n",
              "    </tr>\n",
              "    <tr>\n",
              "      <th>9</th>\n",
              "      <td>db_display_name</td>\n",
              "      <td>Database name</td>\n",
              "      <td></td>\n",
              "      <td>hsapiens_external_feature</td>\n",
              "    </tr>\n",
              "    <tr>\n",
              "      <th>10</th>\n",
              "      <td>xref_display_label</td>\n",
              "      <td>Display label</td>\n",
              "      <td></td>\n",
              "      <td>hsapiens_external_feature</td>\n",
              "    </tr>\n",
              "    <tr>\n",
              "      <th>11</th>\n",
              "      <td>dbprimary_acc</td>\n",
              "      <td>Stable ID</td>\n",
              "      <td></td>\n",
              "      <td>hsapiens_external_feature</td>\n",
              "    </tr>\n",
              "    <tr>\n",
              "      <th>12</th>\n",
              "      <td>linkage_annotation</td>\n",
              "      <td>Linkage annotation</td>\n",
              "      <td></td>\n",
              "      <td>hsapiens_external_feature</td>\n",
              "    </tr>\n",
              "  </tbody>\n",
              "</table>\n",
              "</div>"
            ],
            "text/plain": [
              "                Attribute_ID  ...                 Dataset_ID\n",
              "0            chromosome_name  ...  hsapiens_external_feature\n",
              "1           chromosome_start  ...  hsapiens_external_feature\n",
              "2             chromosome_end  ...  hsapiens_external_feature\n",
              "3               feature_type  ...  hsapiens_external_feature\n",
              "4         feature_type_class  ...  hsapiens_external_feature\n",
              "5   feature_type_description  ...  hsapiens_external_feature\n",
              "6              display_label  ...  hsapiens_external_feature\n",
              "7               so_accession  ...  hsapiens_external_feature\n",
              "8                    so_name  ...  hsapiens_external_feature\n",
              "9            db_display_name  ...  hsapiens_external_feature\n",
              "10        xref_display_label  ...  hsapiens_external_feature\n",
              "11             dbprimary_acc  ...  hsapiens_external_feature\n",
              "12        linkage_annotation  ...  hsapiens_external_feature\n",
              "\n",
              "[13 rows x 4 columns]"
            ]
          },
          "metadata": {
            "tags": []
          },
          "execution_count": 11
        }
      ]
    },
    {
      "cell_type": "code",
      "metadata": {
        "colab": {
          "base_uri": "https://localhost:8080/",
          "height": 475
        },
        "id": "87g_QTCTOAGU",
        "outputId": "27822564-e496-4b7e-fee6-3fb054e08c10"
      },
      "source": [
        "apy.find_filters(dataset=dataset)"
      ],
      "execution_count": 12,
      "outputs": [
        {
          "output_type": "stream",
          "text": [
            "/usr/local/lib/python3.6/dist-packages/apybiomart/classes.py:280: FutureWarning: The pandas.np module is deprecated and will be removed from pandas in a future version. Import numpy directly instead\n",
            "  df.replace(pd.np.nan, \"\", inplace=True)\n"
          ],
          "name": "stderr"
        },
        {
          "output_type": "execute_result",
          "data": {
            "text/html": [
              "<div>\n",
              "<style scoped>\n",
              "    .dataframe tbody tr th:only-of-type {\n",
              "        vertical-align: middle;\n",
              "    }\n",
              "\n",
              "    .dataframe tbody tr th {\n",
              "        vertical-align: top;\n",
              "    }\n",
              "\n",
              "    .dataframe thead th {\n",
              "        text-align: right;\n",
              "    }\n",
              "</style>\n",
              "<table border=\"1\" class=\"dataframe\">\n",
              "  <thead>\n",
              "    <tr style=\"text-align: right;\">\n",
              "      <th></th>\n",
              "      <th>Filter_ID</th>\n",
              "      <th>Filter_type</th>\n",
              "      <th>Filter_description</th>\n",
              "      <th>Dataset_ID</th>\n",
              "    </tr>\n",
              "  </thead>\n",
              "  <tbody>\n",
              "    <tr>\n",
              "      <th>0</th>\n",
              "      <td>chromosome_name</td>\n",
              "      <td></td>\n",
              "      <td></td>\n",
              "      <td>hsapiens_external_feature</td>\n",
              "    </tr>\n",
              "    <tr>\n",
              "      <th>1</th>\n",
              "      <td>start</td>\n",
              "      <td>text</td>\n",
              "      <td>Determine which base pair on the specified chr...</td>\n",
              "      <td>hsapiens_external_feature</td>\n",
              "    </tr>\n",
              "    <tr>\n",
              "      <th>2</th>\n",
              "      <td>end</td>\n",
              "      <td>text</td>\n",
              "      <td>Determine which base pair on the specified chr...</td>\n",
              "      <td>hsapiens_external_feature</td>\n",
              "    </tr>\n",
              "    <tr>\n",
              "      <th>3</th>\n",
              "      <td>chromosomal_region</td>\n",
              "      <td>text</td>\n",
              "      <td>Limit to Genes within multiple comma separate ...</td>\n",
              "      <td>hsapiens_external_feature</td>\n",
              "    </tr>\n",
              "    <tr>\n",
              "      <th>4</th>\n",
              "      <td>band_start</td>\n",
              "      <td>drop_down_basic_filter</td>\n",
              "      <td></td>\n",
              "      <td>hsapiens_external_feature</td>\n",
              "    </tr>\n",
              "    <tr>\n",
              "      <th>5</th>\n",
              "      <td>band_end</td>\n",
              "      <td>drop_down_basic_filter</td>\n",
              "      <td></td>\n",
              "      <td>hsapiens_external_feature</td>\n",
              "    </tr>\n",
              "    <tr>\n",
              "      <th>6</th>\n",
              "      <td>marker_start</td>\n",
              "      <td>drop_down_basic_filter</td>\n",
              "      <td></td>\n",
              "      <td>hsapiens_external_feature</td>\n",
              "    </tr>\n",
              "    <tr>\n",
              "      <th>7</th>\n",
              "      <td>marker_end</td>\n",
              "      <td></td>\n",
              "      <td></td>\n",
              "      <td>hsapiens_external_feature</td>\n",
              "    </tr>\n",
              "    <tr>\n",
              "      <th>8</th>\n",
              "      <td>hsapiens_encode.encode_region</td>\n",
              "      <td></td>\n",
              "      <td></td>\n",
              "      <td>hsapiens_external_feature</td>\n",
              "    </tr>\n",
              "    <tr>\n",
              "      <th>9</th>\n",
              "      <td>external_feature_set_name</td>\n",
              "      <td>list</td>\n",
              "      <td></td>\n",
              "      <td>hsapiens_external_feature</td>\n",
              "    </tr>\n",
              "    <tr>\n",
              "      <th>10</th>\n",
              "      <td>external_feature_type_class</td>\n",
              "      <td>list</td>\n",
              "      <td></td>\n",
              "      <td>hsapiens_external_feature</td>\n",
              "    </tr>\n",
              "    <tr>\n",
              "      <th>11</th>\n",
              "      <td>external_identifier</td>\n",
              "      <td>list</td>\n",
              "      <td></td>\n",
              "      <td>hsapiens_external_feature</td>\n",
              "    </tr>\n",
              "  </tbody>\n",
              "</table>\n",
              "</div>"
            ],
            "text/plain": [
              "                        Filter_ID  ...                 Dataset_ID\n",
              "0                 chromosome_name  ...  hsapiens_external_feature\n",
              "1                           start  ...  hsapiens_external_feature\n",
              "2                             end  ...  hsapiens_external_feature\n",
              "3              chromosomal_region  ...  hsapiens_external_feature\n",
              "4                      band_start  ...  hsapiens_external_feature\n",
              "5                        band_end  ...  hsapiens_external_feature\n",
              "6                    marker_start  ...  hsapiens_external_feature\n",
              "7                      marker_end  ...  hsapiens_external_feature\n",
              "8   hsapiens_encode.encode_region  ...  hsapiens_external_feature\n",
              "9       external_feature_set_name  ...  hsapiens_external_feature\n",
              "10    external_feature_type_class  ...  hsapiens_external_feature\n",
              "11            external_identifier  ...  hsapiens_external_feature\n",
              "\n",
              "[12 rows x 4 columns]"
            ]
          },
          "metadata": {
            "tags": []
          },
          "execution_count": 12
        }
      ]
    },
    {
      "cell_type": "code",
      "metadata": {
        "colab": {
          "base_uri": "https://localhost:8080/"
        },
        "id": "THoHDn9-N3D7",
        "outputId": "8fbcfcb7-3860-4a6b-92f1-b3d0b1b0ac11"
      },
      "source": [
        "hsapiens_external_feature = dump_dataset(dataset, \"biomart/\"+dataset+\".csv\")"
      ],
      "execution_count": 6,
      "outputs": [
        {
          "output_type": "stream",
          "text": [
            "/usr/local/lib/python3.6/dist-packages/apybiomart/classes.py:210: FutureWarning: The pandas.np module is deprecated and will be removed from pandas in a future version. Import numpy directly instead\n",
            "  df.replace(pd.np.nan, \"\", inplace=True)\n",
            "/usr/local/lib/python3.6/dist-packages/ipykernel_launcher.py:1: DtypeWarning: Columns (0) have mixed types.Specify dtype option on import or set low_memory=False.\n",
            "  \"\"\"Entry point for launching an IPython kernel.\n",
            "/usr/local/lib/python3.6/dist-packages/apybiomart/classes.py:392: FutureWarning: The pandas.np module is deprecated and will be removed from pandas in a future version. Import numpy directly instead\n",
            "  result.replace(pd.np.nan, \"\", inplace=True)\n"
          ],
          "name": "stderr"
        }
      ]
    },
    {
      "cell_type": "code",
      "metadata": {
        "colab": {
          "base_uri": "https://localhost:8080/",
          "height": 428
        },
        "id": "e_4i8NsYNREr",
        "outputId": "001313ae-2e57-4944-eac7-a35be6f9ed4f"
      },
      "source": [
        "hsapiens_external_feature.head()"
      ],
      "execution_count": 6,
      "outputs": [
        {
          "output_type": "execute_result",
          "data": {
            "text/html": [
              "<div>\n",
              "<style scoped>\n",
              "    .dataframe tbody tr th:only-of-type {\n",
              "        vertical-align: middle;\n",
              "    }\n",
              "\n",
              "    .dataframe tbody tr th {\n",
              "        vertical-align: top;\n",
              "    }\n",
              "\n",
              "    .dataframe thead th {\n",
              "        text-align: right;\n",
              "    }\n",
              "</style>\n",
              "<table border=\"1\" class=\"dataframe\">\n",
              "  <thead>\n",
              "    <tr style=\"text-align: right;\">\n",
              "      <th></th>\n",
              "      <th>Chromosome/scaffold Name</th>\n",
              "      <th>Start (bp)</th>\n",
              "      <th>End (bp)</th>\n",
              "      <th>Feature type</th>\n",
              "      <th>Feature type class</th>\n",
              "      <th>Feature type description</th>\n",
              "      <th>Identifier</th>\n",
              "      <th>SO term accession</th>\n",
              "      <th>SO term name</th>\n",
              "      <th>Database name</th>\n",
              "      <th>Display label</th>\n",
              "      <th>Stable ID</th>\n",
              "      <th>Linkage annotation</th>\n",
              "    </tr>\n",
              "  </thead>\n",
              "  <tbody>\n",
              "    <tr>\n",
              "      <th>0</th>\n",
              "      <td>1</td>\n",
              "      <td>922877</td>\n",
              "      <td>923268</td>\n",
              "      <td>FANTOM predictions</td>\n",
              "      <td>Enhancer</td>\n",
              "      <td>FANTOM enhancers, permissive</td>\n",
              "      <td>1:922877-923268</td>\n",
              "      <td>SO:0000165</td>\n",
              "      <td>enhancer</td>\n",
              "      <td></td>\n",
              "      <td></td>\n",
              "      <td></td>\n",
              "      <td></td>\n",
              "    </tr>\n",
              "    <tr>\n",
              "      <th>1</th>\n",
              "      <td>1</td>\n",
              "      <td>983070</td>\n",
              "      <td>983175</td>\n",
              "      <td>FANTOM predictions</td>\n",
              "      <td>Enhancer</td>\n",
              "      <td>FANTOM enhancers, permissive</td>\n",
              "      <td>1:983070-983175</td>\n",
              "      <td>SO:0000165</td>\n",
              "      <td>enhancer</td>\n",
              "      <td></td>\n",
              "      <td></td>\n",
              "      <td></td>\n",
              "      <td></td>\n",
              "    </tr>\n",
              "    <tr>\n",
              "      <th>2</th>\n",
              "      <td>1</td>\n",
              "      <td>1006412</td>\n",
              "      <td>1006755</td>\n",
              "      <td>FANTOM predictions</td>\n",
              "      <td>Enhancer</td>\n",
              "      <td>FANTOM enhancers, permissive</td>\n",
              "      <td>1:1006412-1006755</td>\n",
              "      <td>SO:0000165</td>\n",
              "      <td>enhancer</td>\n",
              "      <td></td>\n",
              "      <td></td>\n",
              "      <td></td>\n",
              "      <td></td>\n",
              "    </tr>\n",
              "    <tr>\n",
              "      <th>3</th>\n",
              "      <td>1</td>\n",
              "      <td>1010390</td>\n",
              "      <td>1010654</td>\n",
              "      <td>FANTOM predictions</td>\n",
              "      <td>Enhancer</td>\n",
              "      <td>FANTOM enhancers, permissive</td>\n",
              "      <td>1:1010390-1010654</td>\n",
              "      <td>SO:0000165</td>\n",
              "      <td>enhancer</td>\n",
              "      <td></td>\n",
              "      <td></td>\n",
              "      <td></td>\n",
              "      <td></td>\n",
              "    </tr>\n",
              "    <tr>\n",
              "      <th>4</th>\n",
              "      <td>1</td>\n",
              "      <td>1021184</td>\n",
              "      <td>1021432</td>\n",
              "      <td>FANTOM predictions</td>\n",
              "      <td>Enhancer</td>\n",
              "      <td>FANTOM enhancers, permissive</td>\n",
              "      <td>1:1021184-1021432</td>\n",
              "      <td>SO:0000165</td>\n",
              "      <td>enhancer</td>\n",
              "      <td></td>\n",
              "      <td></td>\n",
              "      <td></td>\n",
              "      <td></td>\n",
              "    </tr>\n",
              "  </tbody>\n",
              "</table>\n",
              "</div>"
            ],
            "text/plain": [
              "  Chromosome/scaffold Name  Start (bp)  ...  Stable ID Linkage annotation\n",
              "0                        1      922877  ...                              \n",
              "1                        1      983070  ...                              \n",
              "2                        1     1006412  ...                              \n",
              "3                        1     1010390  ...                              \n",
              "4                        1     1021184  ...                              \n",
              "\n",
              "[5 rows x 13 columns]"
            ]
          },
          "metadata": {
            "tags": []
          },
          "execution_count": 6
        }
      ]
    },
    {
      "cell_type": "code",
      "metadata": {
        "colab": {
          "base_uri": "https://localhost:8080/"
        },
        "id": "-C651Mu0PASX",
        "outputId": "b2c6c81a-f5e5-4adf-c3e8-99e4e04bb58e"
      },
      "source": [
        "hsapiens_external_feature['SO term name'].value_counts()"
      ],
      "execution_count": null,
      "outputs": [
        {
          "output_type": "execute_result",
          "data": {
            "text/plain": [
              "transcription_start_site    388825\n",
              "enhancer                     82370\n",
              "Name: SO term name, dtype: int64"
            ]
          },
          "metadata": {
            "tags": []
          },
          "execution_count": 37
        }
      ]
    },
    {
      "cell_type": "markdown",
      "metadata": {
        "id": "5i9KK2T_Pc__"
      },
      "source": [
        "### hsapiens_regulatory_feature"
      ]
    },
    {
      "cell_type": "code",
      "metadata": {
        "id": "IYD87VjcQPAr"
      },
      "source": [
        "dataset = \"hsapiens_regulatory_feature\""
      ],
      "execution_count": 13,
      "outputs": []
    },
    {
      "cell_type": "code",
      "metadata": {
        "colab": {
          "base_uri": "https://localhost:8080/"
        },
        "id": "Fg0bZtclPnmU",
        "outputId": "e2b89203-ce77-40ba-bbee-ddb73ff66bff"
      },
      "source": [
        "hsapiens_regulatory_feature = dump_dataset(\n",
        "    dataset, \n",
        "    output_path=\"biomart/\"+dataset+\"_0.csv\", \n",
        "    filters={\"chromosome_name\":\"1\", \"regulatory_feature_type_name\":\"Promoter\"}\n",
        ")"
      ],
      "execution_count": 17,
      "outputs": [
        {
          "output_type": "stream",
          "text": [
            "/usr/local/lib/python3.6/dist-packages/apybiomart/classes.py:210: FutureWarning: The pandas.np module is deprecated and will be removed from pandas in a future version. Import numpy directly instead\n",
            "  df.replace(pd.np.nan, \"\", inplace=True)\n",
            "/usr/local/lib/python3.6/dist-packages/apybiomart/classes.py:392: FutureWarning: The pandas.np module is deprecated and will be removed from pandas in a future version. Import numpy directly instead\n",
            "  result.replace(pd.np.nan, \"\", inplace=True)\n"
          ],
          "name": "stderr"
        }
      ]
    },
    {
      "cell_type": "code",
      "metadata": {
        "colab": {
          "base_uri": "https://localhost:8080/",
          "height": 475
        },
        "id": "6DfxbtJXQN2r",
        "outputId": "c39b8914-c6d1-4766-ec6e-5b5d5fec5943"
      },
      "source": [
        "apy.find_filters(dataset=dataset)"
      ],
      "execution_count": 14,
      "outputs": [
        {
          "output_type": "stream",
          "text": [
            "/usr/local/lib/python3.6/dist-packages/apybiomart/classes.py:280: FutureWarning: The pandas.np module is deprecated and will be removed from pandas in a future version. Import numpy directly instead\n",
            "  df.replace(pd.np.nan, \"\", inplace=True)\n"
          ],
          "name": "stderr"
        },
        {
          "output_type": "execute_result",
          "data": {
            "text/html": [
              "<div>\n",
              "<style scoped>\n",
              "    .dataframe tbody tr th:only-of-type {\n",
              "        vertical-align: middle;\n",
              "    }\n",
              "\n",
              "    .dataframe tbody tr th {\n",
              "        vertical-align: top;\n",
              "    }\n",
              "\n",
              "    .dataframe thead th {\n",
              "        text-align: right;\n",
              "    }\n",
              "</style>\n",
              "<table border=\"1\" class=\"dataframe\">\n",
              "  <thead>\n",
              "    <tr style=\"text-align: right;\">\n",
              "      <th></th>\n",
              "      <th>Filter_ID</th>\n",
              "      <th>Filter_type</th>\n",
              "      <th>Filter_description</th>\n",
              "      <th>Dataset_ID</th>\n",
              "    </tr>\n",
              "  </thead>\n",
              "  <tbody>\n",
              "    <tr>\n",
              "      <th>0</th>\n",
              "      <td>chromosome_name</td>\n",
              "      <td>text</td>\n",
              "      <td></td>\n",
              "      <td>hsapiens_regulatory_feature</td>\n",
              "    </tr>\n",
              "    <tr>\n",
              "      <th>1</th>\n",
              "      <td>start</td>\n",
              "      <td>text</td>\n",
              "      <td>Determine which base pair on the specified chr...</td>\n",
              "      <td>hsapiens_regulatory_feature</td>\n",
              "    </tr>\n",
              "    <tr>\n",
              "      <th>2</th>\n",
              "      <td>end</td>\n",
              "      <td>text</td>\n",
              "      <td>Determine which base pair on the specified chr...</td>\n",
              "      <td>hsapiens_regulatory_feature</td>\n",
              "    </tr>\n",
              "    <tr>\n",
              "      <th>3</th>\n",
              "      <td>chromosomal_region</td>\n",
              "      <td>text</td>\n",
              "      <td>Limit to Genes within multiple comma separate ...</td>\n",
              "      <td>hsapiens_regulatory_feature</td>\n",
              "    </tr>\n",
              "    <tr>\n",
              "      <th>4</th>\n",
              "      <td>band_start</td>\n",
              "      <td>drop_down_basic_filter</td>\n",
              "      <td></td>\n",
              "      <td>hsapiens_regulatory_feature</td>\n",
              "    </tr>\n",
              "    <tr>\n",
              "      <th>5</th>\n",
              "      <td>band_end</td>\n",
              "      <td>drop_down_basic_filter</td>\n",
              "      <td></td>\n",
              "      <td>hsapiens_regulatory_feature</td>\n",
              "    </tr>\n",
              "    <tr>\n",
              "      <th>6</th>\n",
              "      <td>marker_start</td>\n",
              "      <td>drop_down_basic_filter</td>\n",
              "      <td></td>\n",
              "      <td>hsapiens_regulatory_feature</td>\n",
              "    </tr>\n",
              "    <tr>\n",
              "      <th>7</th>\n",
              "      <td>marker_end</td>\n",
              "      <td></td>\n",
              "      <td></td>\n",
              "      <td>hsapiens_regulatory_feature</td>\n",
              "    </tr>\n",
              "    <tr>\n",
              "      <th>8</th>\n",
              "      <td>hsapiens_encode.encode_region</td>\n",
              "      <td></td>\n",
              "      <td></td>\n",
              "      <td>hsapiens_regulatory_feature</td>\n",
              "    </tr>\n",
              "    <tr>\n",
              "      <th>9</th>\n",
              "      <td>regulatory_stable_id</td>\n",
              "      <td>list</td>\n",
              "      <td></td>\n",
              "      <td>hsapiens_regulatory_feature</td>\n",
              "    </tr>\n",
              "    <tr>\n",
              "      <th>10</th>\n",
              "      <td>regulatory_feature_type_name</td>\n",
              "      <td>list</td>\n",
              "      <td></td>\n",
              "      <td>hsapiens_regulatory_feature</td>\n",
              "    </tr>\n",
              "    <tr>\n",
              "      <th>11</th>\n",
              "      <td>epigenome_name</td>\n",
              "      <td>list</td>\n",
              "      <td></td>\n",
              "      <td>hsapiens_regulatory_feature</td>\n",
              "    </tr>\n",
              "  </tbody>\n",
              "</table>\n",
              "</div>"
            ],
            "text/plain": [
              "                        Filter_ID  ...                   Dataset_ID\n",
              "0                 chromosome_name  ...  hsapiens_regulatory_feature\n",
              "1                           start  ...  hsapiens_regulatory_feature\n",
              "2                             end  ...  hsapiens_regulatory_feature\n",
              "3              chromosomal_region  ...  hsapiens_regulatory_feature\n",
              "4                      band_start  ...  hsapiens_regulatory_feature\n",
              "5                        band_end  ...  hsapiens_regulatory_feature\n",
              "6                    marker_start  ...  hsapiens_regulatory_feature\n",
              "7                      marker_end  ...  hsapiens_regulatory_feature\n",
              "8   hsapiens_encode.encode_region  ...  hsapiens_regulatory_feature\n",
              "9            regulatory_stable_id  ...  hsapiens_regulatory_feature\n",
              "10   regulatory_feature_type_name  ...  hsapiens_regulatory_feature\n",
              "11                 epigenome_name  ...  hsapiens_regulatory_feature\n",
              "\n",
              "[12 rows x 4 columns]"
            ]
          },
          "metadata": {
            "tags": []
          },
          "execution_count": 14
        }
      ]
    },
    {
      "cell_type": "markdown",
      "metadata": {
        "id": "EfCVunZ_R6K4"
      },
      "source": [
        "#Get sequences from positions"
      ]
    },
    {
      "cell_type": "code",
      "metadata": {
        "id": "PLZzdo71S3dB"
      },
      "source": [
        "import ensembl_rest"
      ],
      "execution_count": 13,
      "outputs": []
    },
    {
      "cell_type": "code",
      "metadata": {
        "id": "uU93E-kpS505"
      },
      "source": [
        "def get_sequences_by_positions(identifiers_list):\n",
        "  return ensembl_rest.sequence_region_post(\n",
        "      species=\"human\",\n",
        "      format=\"fasta\",\n",
        "      params={'regions':identifiers_list}\n",
        "  )"
      ],
      "execution_count": 12,
      "outputs": []
    },
    {
      "cell_type": "code",
      "metadata": {
        "id": "aQW6q9SmFaJT"
      },
      "source": [
        "def get_sequence_by_position(identifier):\n",
        "  return ensembl_rest.sequence_region(\n",
        "      species=\"human\",\n",
        "      format=\"fasta\",\n",
        "      region=identifier\n",
        "  )"
      ],
      "execution_count": 30,
      "outputs": []
    },
    {
      "cell_type": "code",
      "metadata": {
        "id": "qGWNpTT6Uerz"
      },
      "source": [
        "def make_seqrecord_from_response(response_record):\n",
        "  return SeqRecord(\n",
        "      Seq(response_record['seq']), \n",
        "      id=response_record['id'], \n",
        "      description=\"\"\n",
        "  )"
      ],
      "execution_count": 11,
      "outputs": []
    },
    {
      "cell_type": "code",
      "metadata": {
        "id": "ci4AEx2I8sM9"
      },
      "source": [
        "def save_to_fasta(out_path, indentifiers):\n",
        "  with open(out_path, 'w') as handle:\n",
        "    for identifier in indentifiers:\n",
        "      response_record = get_sequence_by_position(identifier)\n",
        "      SeqIO.write(\n",
        "          make_seqrecord_from_response(response_record), \n",
        "          handle, \n",
        "          'fasta'\n",
        "      )"
      ],
      "execution_count": 31,
      "outputs": []
    },
    {
      "cell_type": "code",
      "metadata": {
        "id": "fnGpJVp7_6s0"
      },
      "source": [
        "def get_positions(biomart_list):\n",
        "  return biomart_list['Identifier'].tolist()"
      ],
      "execution_count": 27,
      "outputs": []
    },
    {
      "cell_type": "markdown",
      "metadata": {
        "id": "m66G-r07Gk3S"
      },
      "source": [
        "### hsapiens_external_feature"
      ]
    },
    {
      "cell_type": "code",
      "metadata": {
        "colab": {
          "base_uri": "https://localhost:8080/",
          "height": 428
        },
        "id": "peeEsGb6VjoR",
        "outputId": "b20f7c0d-262a-4031-dcae-5f88572eaf86"
      },
      "source": [
        "enhancers = hsapiens_external_feature[hsapiens_external_feature['SO term name'] == 'enhancer']\n",
        "enhancers.head()"
      ],
      "execution_count": 7,
      "outputs": [
        {
          "output_type": "execute_result",
          "data": {
            "text/html": [
              "<div>\n",
              "<style scoped>\n",
              "    .dataframe tbody tr th:only-of-type {\n",
              "        vertical-align: middle;\n",
              "    }\n",
              "\n",
              "    .dataframe tbody tr th {\n",
              "        vertical-align: top;\n",
              "    }\n",
              "\n",
              "    .dataframe thead th {\n",
              "        text-align: right;\n",
              "    }\n",
              "</style>\n",
              "<table border=\"1\" class=\"dataframe\">\n",
              "  <thead>\n",
              "    <tr style=\"text-align: right;\">\n",
              "      <th></th>\n",
              "      <th>Chromosome/scaffold Name</th>\n",
              "      <th>Start (bp)</th>\n",
              "      <th>End (bp)</th>\n",
              "      <th>Feature type</th>\n",
              "      <th>Feature type class</th>\n",
              "      <th>Feature type description</th>\n",
              "      <th>Identifier</th>\n",
              "      <th>SO term accession</th>\n",
              "      <th>SO term name</th>\n",
              "      <th>Database name</th>\n",
              "      <th>Display label</th>\n",
              "      <th>Stable ID</th>\n",
              "      <th>Linkage annotation</th>\n",
              "    </tr>\n",
              "  </thead>\n",
              "  <tbody>\n",
              "    <tr>\n",
              "      <th>0</th>\n",
              "      <td>1</td>\n",
              "      <td>922877</td>\n",
              "      <td>923268</td>\n",
              "      <td>FANTOM predictions</td>\n",
              "      <td>Enhancer</td>\n",
              "      <td>FANTOM enhancers, permissive</td>\n",
              "      <td>1:922877-923268</td>\n",
              "      <td>SO:0000165</td>\n",
              "      <td>enhancer</td>\n",
              "      <td></td>\n",
              "      <td></td>\n",
              "      <td></td>\n",
              "      <td></td>\n",
              "    </tr>\n",
              "    <tr>\n",
              "      <th>1</th>\n",
              "      <td>1</td>\n",
              "      <td>983070</td>\n",
              "      <td>983175</td>\n",
              "      <td>FANTOM predictions</td>\n",
              "      <td>Enhancer</td>\n",
              "      <td>FANTOM enhancers, permissive</td>\n",
              "      <td>1:983070-983175</td>\n",
              "      <td>SO:0000165</td>\n",
              "      <td>enhancer</td>\n",
              "      <td></td>\n",
              "      <td></td>\n",
              "      <td></td>\n",
              "      <td></td>\n",
              "    </tr>\n",
              "    <tr>\n",
              "      <th>2</th>\n",
              "      <td>1</td>\n",
              "      <td>1006412</td>\n",
              "      <td>1006755</td>\n",
              "      <td>FANTOM predictions</td>\n",
              "      <td>Enhancer</td>\n",
              "      <td>FANTOM enhancers, permissive</td>\n",
              "      <td>1:1006412-1006755</td>\n",
              "      <td>SO:0000165</td>\n",
              "      <td>enhancer</td>\n",
              "      <td></td>\n",
              "      <td></td>\n",
              "      <td></td>\n",
              "      <td></td>\n",
              "    </tr>\n",
              "    <tr>\n",
              "      <th>3</th>\n",
              "      <td>1</td>\n",
              "      <td>1010390</td>\n",
              "      <td>1010654</td>\n",
              "      <td>FANTOM predictions</td>\n",
              "      <td>Enhancer</td>\n",
              "      <td>FANTOM enhancers, permissive</td>\n",
              "      <td>1:1010390-1010654</td>\n",
              "      <td>SO:0000165</td>\n",
              "      <td>enhancer</td>\n",
              "      <td></td>\n",
              "      <td></td>\n",
              "      <td></td>\n",
              "      <td></td>\n",
              "    </tr>\n",
              "    <tr>\n",
              "      <th>4</th>\n",
              "      <td>1</td>\n",
              "      <td>1021184</td>\n",
              "      <td>1021432</td>\n",
              "      <td>FANTOM predictions</td>\n",
              "      <td>Enhancer</td>\n",
              "      <td>FANTOM enhancers, permissive</td>\n",
              "      <td>1:1021184-1021432</td>\n",
              "      <td>SO:0000165</td>\n",
              "      <td>enhancer</td>\n",
              "      <td></td>\n",
              "      <td></td>\n",
              "      <td></td>\n",
              "      <td></td>\n",
              "    </tr>\n",
              "  </tbody>\n",
              "</table>\n",
              "</div>"
            ],
            "text/plain": [
              "  Chromosome/scaffold Name  Start (bp)  ...  Stable ID Linkage annotation\n",
              "0                        1      922877  ...                              \n",
              "1                        1      983070  ...                              \n",
              "2                        1     1006412  ...                              \n",
              "3                        1     1010390  ...                              \n",
              "4                        1     1021184  ...                              \n",
              "\n",
              "[5 rows x 13 columns]"
            ]
          },
          "metadata": {
            "tags": []
          },
          "execution_count": 7
        }
      ]
    },
    {
      "cell_type": "code",
      "metadata": {
        "id": "xoI54W5LEG0F"
      },
      "source": [
        "enhancers_positions = get_positions(enhancers)\n",
        "enhancers_positions"
      ],
      "execution_count": null,
      "outputs": []
    },
    {
      "cell_type": "code",
      "metadata": {
        "id": "BFxYQXolEY3F"
      },
      "source": [
        "save_to_fasta(\"biomart/\"+dataset+\"_enhancers.fa\", enhancers_positions)"
      ],
      "execution_count": null,
      "outputs": []
    }
  ]
}