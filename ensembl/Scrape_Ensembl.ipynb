{
  "nbformat": 4,
  "nbformat_minor": 0,
  "metadata": {
    "colab": {
      "name": "Untitled0.ipynb",
      "provenance": [],
      "authorship_tag": "ABX9TyOdxnHlUDy8ztTisQtLCrV/",
      "include_colab_link": true
    },
    "kernelspec": {
      "name": "python3",
      "display_name": "Python 3"
    },
    "widgets": {
      "application/vnd.jupyter.widget-state+json": {
        "75f6f493305746ed85a114138ba0e5d2": {
          "model_module": "@jupyter-widgets/controls",
          "model_name": "HBoxModel",
          "state": {
            "_view_name": "HBoxView",
            "_dom_classes": [],
            "_model_name": "HBoxModel",
            "_view_module": "@jupyter-widgets/controls",
            "_model_module_version": "1.5.0",
            "_view_count": null,
            "_view_module_version": "1.5.0",
            "box_style": "",
            "layout": "IPY_MODEL_967328ae499a40f685e573e1d634d28b",
            "_model_module": "@jupyter-widgets/controls",
            "children": [
              "IPY_MODEL_659d4183716d410a8d0795f8935b950f",
              "IPY_MODEL_0fa774f76a7a4452b22d2207ab046458"
            ]
          }
        },
        "967328ae499a40f685e573e1d634d28b": {
          "model_module": "@jupyter-widgets/base",
          "model_name": "LayoutModel",
          "state": {
            "_view_name": "LayoutView",
            "grid_template_rows": null,
            "right": null,
            "justify_content": null,
            "_view_module": "@jupyter-widgets/base",
            "overflow": null,
            "_model_module_version": "1.2.0",
            "_view_count": null,
            "flex_flow": null,
            "width": null,
            "min_width": null,
            "border": null,
            "align_items": null,
            "bottom": null,
            "_model_module": "@jupyter-widgets/base",
            "top": null,
            "grid_column": null,
            "overflow_y": null,
            "overflow_x": null,
            "grid_auto_flow": null,
            "grid_area": null,
            "grid_template_columns": null,
            "flex": null,
            "_model_name": "LayoutModel",
            "justify_items": null,
            "grid_row": null,
            "max_height": null,
            "align_content": null,
            "visibility": null,
            "align_self": null,
            "height": null,
            "min_height": null,
            "padding": null,
            "grid_auto_rows": null,
            "grid_gap": null,
            "max_width": null,
            "order": null,
            "_view_module_version": "1.2.0",
            "grid_template_areas": null,
            "object_position": null,
            "object_fit": null,
            "grid_auto_columns": null,
            "margin": null,
            "display": null,
            "left": null
          }
        },
        "659d4183716d410a8d0795f8935b950f": {
          "model_module": "@jupyter-widgets/controls",
          "model_name": "FloatProgressModel",
          "state": {
            "_view_name": "ProgressView",
            "style": "IPY_MODEL_dab7be418326456c8c402bd91d89895e",
            "_dom_classes": [],
            "description": " 88%",
            "_model_name": "FloatProgressModel",
            "bar_style": "danger",
            "max": 24,
            "_view_module": "@jupyter-widgets/controls",
            "_model_module_version": "1.5.0",
            "value": 21,
            "_view_count": null,
            "_view_module_version": "1.5.0",
            "orientation": "horizontal",
            "min": 0,
            "description_tooltip": null,
            "_model_module": "@jupyter-widgets/controls",
            "layout": "IPY_MODEL_f51cb8d9b5de45cfba46c493282ac2ea"
          }
        },
        "0fa774f76a7a4452b22d2207ab046458": {
          "model_module": "@jupyter-widgets/controls",
          "model_name": "HTMLModel",
          "state": {
            "_view_name": "HTMLView",
            "style": "IPY_MODEL_8d405ed5cca34c19b3a2a04b57fc9d97",
            "_dom_classes": [],
            "description": "",
            "_model_name": "HTMLModel",
            "placeholder": "​",
            "_view_module": "@jupyter-widgets/controls",
            "_model_module_version": "1.5.0",
            "value": " 21/24 [10:24&lt;01:09, 23.14s/it]",
            "_view_count": null,
            "_view_module_version": "1.5.0",
            "description_tooltip": null,
            "_model_module": "@jupyter-widgets/controls",
            "layout": "IPY_MODEL_c84d0b54ece748858cfe288eb1cc0ad9"
          }
        },
        "dab7be418326456c8c402bd91d89895e": {
          "model_module": "@jupyter-widgets/controls",
          "model_name": "ProgressStyleModel",
          "state": {
            "_view_name": "StyleView",
            "_model_name": "ProgressStyleModel",
            "description_width": "initial",
            "_view_module": "@jupyter-widgets/base",
            "_model_module_version": "1.5.0",
            "_view_count": null,
            "_view_module_version": "1.2.0",
            "bar_color": null,
            "_model_module": "@jupyter-widgets/controls"
          }
        },
        "f51cb8d9b5de45cfba46c493282ac2ea": {
          "model_module": "@jupyter-widgets/base",
          "model_name": "LayoutModel",
          "state": {
            "_view_name": "LayoutView",
            "grid_template_rows": null,
            "right": null,
            "justify_content": null,
            "_view_module": "@jupyter-widgets/base",
            "overflow": null,
            "_model_module_version": "1.2.0",
            "_view_count": null,
            "flex_flow": null,
            "width": null,
            "min_width": null,
            "border": null,
            "align_items": null,
            "bottom": null,
            "_model_module": "@jupyter-widgets/base",
            "top": null,
            "grid_column": null,
            "overflow_y": null,
            "overflow_x": null,
            "grid_auto_flow": null,
            "grid_area": null,
            "grid_template_columns": null,
            "flex": null,
            "_model_name": "LayoutModel",
            "justify_items": null,
            "grid_row": null,
            "max_height": null,
            "align_content": null,
            "visibility": null,
            "align_self": null,
            "height": null,
            "min_height": null,
            "padding": null,
            "grid_auto_rows": null,
            "grid_gap": null,
            "max_width": null,
            "order": null,
            "_view_module_version": "1.2.0",
            "grid_template_areas": null,
            "object_position": null,
            "object_fit": null,
            "grid_auto_columns": null,
            "margin": null,
            "display": null,
            "left": null
          }
        },
        "8d405ed5cca34c19b3a2a04b57fc9d97": {
          "model_module": "@jupyter-widgets/controls",
          "model_name": "DescriptionStyleModel",
          "state": {
            "_view_name": "StyleView",
            "_model_name": "DescriptionStyleModel",
            "description_width": "",
            "_view_module": "@jupyter-widgets/base",
            "_model_module_version": "1.5.0",
            "_view_count": null,
            "_view_module_version": "1.2.0",
            "_model_module": "@jupyter-widgets/controls"
          }
        },
        "c84d0b54ece748858cfe288eb1cc0ad9": {
          "model_module": "@jupyter-widgets/base",
          "model_name": "LayoutModel",
          "state": {
            "_view_name": "LayoutView",
            "grid_template_rows": null,
            "right": null,
            "justify_content": null,
            "_view_module": "@jupyter-widgets/base",
            "overflow": null,
            "_model_module_version": "1.2.0",
            "_view_count": null,
            "flex_flow": null,
            "width": null,
            "min_width": null,
            "border": null,
            "align_items": null,
            "bottom": null,
            "_model_module": "@jupyter-widgets/base",
            "top": null,
            "grid_column": null,
            "overflow_y": null,
            "overflow_x": null,
            "grid_auto_flow": null,
            "grid_area": null,
            "grid_template_columns": null,
            "flex": null,
            "_model_name": "LayoutModel",
            "justify_items": null,
            "grid_row": null,
            "max_height": null,
            "align_content": null,
            "visibility": null,
            "align_self": null,
            "height": null,
            "min_height": null,
            "padding": null,
            "grid_auto_rows": null,
            "grid_gap": null,
            "max_width": null,
            "order": null,
            "_view_module_version": "1.2.0",
            "grid_template_areas": null,
            "object_position": null,
            "object_fit": null,
            "grid_auto_columns": null,
            "margin": null,
            "display": null,
            "left": null
          }
        }
      }
    }
  },
  "cells": [
    {
      "cell_type": "markdown",
      "metadata": {
        "id": "view-in-github",
        "colab_type": "text"
      },
      "source": [
        "<a href=\"https://colab.research.google.com/github/katarinagresova/benchmarks/blob/main/ensembl/Scrape_Ensembl.ipynb\" target=\"_parent\"><img src=\"https://colab.research.google.com/assets/colab-badge.svg\" alt=\"Open In Colab\"/></a>"
      ]
    },
    {
      "cell_type": "markdown",
      "metadata": {
        "id": "hJUynJESVeTA"
      },
      "source": [
        "# Setup"
      ]
    },
    {
      "cell_type": "code",
      "metadata": {
        "colab": {
          "base_uri": "https://localhost:8080/"
        },
        "id": "Q9Ck8Kw6ihCo",
        "outputId": "a17e1826-7c46-4090-883d-b3f9c8274634"
      },
      "source": [
        "!pip install biopython"
      ],
      "execution_count": 80,
      "outputs": [
        {
          "output_type": "stream",
          "text": [
            "Requirement already satisfied: biopython in /usr/local/lib/python3.6/dist-packages (1.78)\n",
            "Requirement already satisfied: numpy in /usr/local/lib/python3.6/dist-packages (from biopython) (1.18.5)\n"
          ],
          "name": "stdout"
        }
      ]
    },
    {
      "cell_type": "code",
      "metadata": {
        "id": "CM6sQdG2YvOK"
      },
      "source": [
        "import urllib.request\n",
        "import os\n",
        "import pandas as pd\n",
        "import gzip\n",
        "from tqdm.notebook import tqdm\n",
        "from Bio.Seq import Seq\n",
        "from Bio import SeqIO\n",
        "from Bio.SeqRecord import SeqRecord"
      ],
      "execution_count": 101,
      "outputs": []
    },
    {
      "cell_type": "markdown",
      "metadata": {
        "id": "U5Z7bTUYVixP"
      },
      "source": [
        "# Data download"
      ]
    },
    {
      "cell_type": "code",
      "metadata": {
        "id": "mWFMbS_GSIo6"
      },
      "source": [
        "ensembl_ftp = 'ftp://ftp.ensembl.org/pub/'\n",
        "release = '100'\n",
        "feature_file = 'mmusculus_regulatory_feature__regulatory_feature__main.txt.gz'\n",
        "organism = 'mus_musculus'\n",
        "fasta_file = 'Mus_musculus.GRCm38.dna_rm.toplevel.fa.gz'\n",
        "\n",
        "urllib.request.urlretrieve(\n",
        "    ensembl_ftp + 'release-' + release + '/mysql/regulation_mart_' + release + '/' + feature_file \n",
        "    feature_file\n",
        ")\n",
        "\n",
        "urllib.request.urlretrieve(\n",
        "    ensembl_ftp + 'release-' + release + 'fasta/' + organism + '/dna/' + fasta_file \n",
        "    fasta_file\n",
        ")"
      ],
      "execution_count": 117,
      "outputs": []
    },
    {
      "cell_type": "markdown",
      "metadata": {
        "id": "romHjb6mZDix"
      },
      "source": [
        "# Data preprocessing"
      ]
    },
    {
      "cell_type": "code",
      "metadata": {
        "id": "RxdgzcNdeu2j"
      },
      "source": [
        "header_list = [\n",
        "  \"feature_type_description\", \n",
        "  \"bound_seq_region_start\", \n",
        "  \"feature_type_name\",\n",
        "  \"bound_seq_region_end\",\n",
        "  \"so_name\",\n",
        "  \"so_accession\",\n",
        "  \"seq_region_name\",\n",
        "  \"stable_id\",\n",
        "  \"regulatory_feature_id\",\n",
        "  \"seq_region_start\",\n",
        "  \"seq_region_end\",\n",
        "  \"seq_region_strand\"\n",
        "]\n",
        "df = pd.read_csv(local_path, sep='\\t', names=header_list)"
      ],
      "execution_count": 83,
      "outputs": []
    },
    {
      "cell_type": "code",
      "metadata": {
        "colab": {
          "base_uri": "https://localhost:8080/",
          "height": 258
        },
        "id": "9t7aRF98e4de",
        "outputId": "8258c193-8544-4f3d-c77a-67e5e47600b7"
      },
      "source": [
        "df.head()"
      ],
      "execution_count": 84,
      "outputs": [
        {
          "output_type": "execute_result",
          "data": {
            "text/html": [
              "<div>\n",
              "<style scoped>\n",
              "    .dataframe tbody tr th:only-of-type {\n",
              "        vertical-align: middle;\n",
              "    }\n",
              "\n",
              "    .dataframe tbody tr th {\n",
              "        vertical-align: top;\n",
              "    }\n",
              "\n",
              "    .dataframe thead th {\n",
              "        text-align: right;\n",
              "    }\n",
              "</style>\n",
              "<table border=\"1\" class=\"dataframe\">\n",
              "  <thead>\n",
              "    <tr style=\"text-align: right;\">\n",
              "      <th></th>\n",
              "      <th>feature_type_description</th>\n",
              "      <th>bound_seq_region_start</th>\n",
              "      <th>feature_type_name</th>\n",
              "      <th>bound_seq_region_end</th>\n",
              "      <th>so_name</th>\n",
              "      <th>so_accession</th>\n",
              "      <th>seq_region_name</th>\n",
              "      <th>stable_id</th>\n",
              "      <th>regulatory_feature_id</th>\n",
              "      <th>seq_region_start</th>\n",
              "      <th>seq_region_end</th>\n",
              "      <th>seq_region_strand</th>\n",
              "    </tr>\n",
              "  </thead>\n",
              "  <tbody>\n",
              "    <tr>\n",
              "      <th>0</th>\n",
              "      <td>Predicted promoter flanking region</td>\n",
              "      <td>8421801</td>\n",
              "      <td>Promoter Flanking Region</td>\n",
              "      <td>8422039</td>\n",
              "      <td>promoter_flanking_region</td>\n",
              "      <td>SO:0001952</td>\n",
              "      <td>8</td>\n",
              "      <td>ENSMUSR00000727517</td>\n",
              "      <td>1</td>\n",
              "      <td>8421801</td>\n",
              "      <td>8422039</td>\n",
              "      <td>0</td>\n",
              "    </tr>\n",
              "    <tr>\n",
              "      <th>1</th>\n",
              "      <td>Predicted promoter flanking region</td>\n",
              "      <td>103364401</td>\n",
              "      <td>Promoter Flanking Region</td>\n",
              "      <td>103368000</td>\n",
              "      <td>promoter_flanking_region</td>\n",
              "      <td>SO:0001952</td>\n",
              "      <td>5</td>\n",
              "      <td>ENSMUSR00000214044</td>\n",
              "      <td>2</td>\n",
              "      <td>103364401</td>\n",
              "      <td>103368000</td>\n",
              "      <td>0</td>\n",
              "    </tr>\n",
              "    <tr>\n",
              "      <th>2</th>\n",
              "      <td>CTCF Binding Site</td>\n",
              "      <td>144935201</td>\n",
              "      <td>CTCF Binding Site</td>\n",
              "      <td>144936200</td>\n",
              "      <td>CTCF_binding_site</td>\n",
              "      <td>SO:0001974</td>\n",
              "      <td>7</td>\n",
              "      <td>ENSMUSR00000451846</td>\n",
              "      <td>3</td>\n",
              "      <td>144935201</td>\n",
              "      <td>144936200</td>\n",
              "      <td>0</td>\n",
              "    </tr>\n",
              "    <tr>\n",
              "      <th>3</th>\n",
              "      <td>CTCF Binding Site</td>\n",
              "      <td>24612601</td>\n",
              "      <td>CTCF Binding Site</td>\n",
              "      <td>24613000</td>\n",
              "      <td>CTCF_binding_site</td>\n",
              "      <td>SO:0001974</td>\n",
              "      <td>19</td>\n",
              "      <td>ENSMUSR00000381379</td>\n",
              "      <td>4</td>\n",
              "      <td>24612601</td>\n",
              "      <td>24613000</td>\n",
              "      <td>0</td>\n",
              "    </tr>\n",
              "    <tr>\n",
              "      <th>4</th>\n",
              "      <td>Predicted enhancer</td>\n",
              "      <td>125880801</td>\n",
              "      <td>Enhancer</td>\n",
              "      <td>125881000</td>\n",
              "      <td>enhancer</td>\n",
              "      <td>SO:0000165</td>\n",
              "      <td>8</td>\n",
              "      <td>ENSMUSR00000742157</td>\n",
              "      <td>5</td>\n",
              "      <td>125880801</td>\n",
              "      <td>125881000</td>\n",
              "      <td>0</td>\n",
              "    </tr>\n",
              "  </tbody>\n",
              "</table>\n",
              "</div>"
            ],
            "text/plain": [
              "             feature_type_description  ...  seq_region_strand\n",
              "0  Predicted promoter flanking region  ...                  0\n",
              "1  Predicted promoter flanking region  ...                  0\n",
              "2                   CTCF Binding Site  ...                  0\n",
              "3                   CTCF Binding Site  ...                  0\n",
              "4                  Predicted enhancer  ...                  0\n",
              "\n",
              "[5 rows x 12 columns]"
            ]
          },
          "metadata": {
            "tags": []
          },
          "execution_count": 84
        }
      ]
    },
    {
      "cell_type": "code",
      "metadata": {
        "colab": {
          "base_uri": "https://localhost:8080/"
        },
        "id": "CANkWLV6eJPV",
        "outputId": "dbba6fd2-75e8-4fb5-8e1e-c559275894a1"
      },
      "source": [
        "seqs = df[['so_name', 'seq_region_name', 'seq_region_start', 'seq_region_end']]\n",
        "seqs['seq'] = ''"
      ],
      "execution_count": 111,
      "outputs": [
        {
          "output_type": "stream",
          "text": [
            "/usr/local/lib/python3.6/dist-packages/ipykernel_launcher.py:2: SettingWithCopyWarning: \n",
            "A value is trying to be set on a copy of a slice from a DataFrame.\n",
            "Try using .loc[row_indexer,col_indexer] = value instead\n",
            "\n",
            "See the caveats in the documentation: https://pandas.pydata.org/pandas-docs/stable/user_guide/indexing.html#returning-a-view-versus-a-copy\n",
            "  \n"
          ],
          "name": "stderr"
        }
      ]
    },
    {
      "cell_type": "code",
      "metadata": {
        "colab": {
          "base_uri": "https://localhost:8080/",
          "height": 204
        },
        "id": "l5RgYXfgeii8",
        "outputId": "b588084b-0427-4c8b-b53c-e1ebc66d2600"
      },
      "source": [
        "seqs"
      ],
      "execution_count": 112,
      "outputs": [
        {
          "output_type": "execute_result",
          "data": {
            "text/html": [
              "<div>\n",
              "<style scoped>\n",
              "    .dataframe tbody tr th:only-of-type {\n",
              "        vertical-align: middle;\n",
              "    }\n",
              "\n",
              "    .dataframe tbody tr th {\n",
              "        vertical-align: top;\n",
              "    }\n",
              "\n",
              "    .dataframe thead th {\n",
              "        text-align: right;\n",
              "    }\n",
              "</style>\n",
              "<table border=\"1\" class=\"dataframe\">\n",
              "  <thead>\n",
              "    <tr style=\"text-align: right;\">\n",
              "      <th></th>\n",
              "      <th>so_name</th>\n",
              "      <th>seq_region_name</th>\n",
              "      <th>seq_region_start</th>\n",
              "      <th>seq_region_end</th>\n",
              "      <th>seq</th>\n",
              "    </tr>\n",
              "  </thead>\n",
              "  <tbody>\n",
              "    <tr>\n",
              "      <th>0</th>\n",
              "      <td>promoter_flanking_region</td>\n",
              "      <td>8</td>\n",
              "      <td>8421801</td>\n",
              "      <td>8422039</td>\n",
              "      <td></td>\n",
              "    </tr>\n",
              "    <tr>\n",
              "      <th>1</th>\n",
              "      <td>promoter_flanking_region</td>\n",
              "      <td>5</td>\n",
              "      <td>103364401</td>\n",
              "      <td>103368000</td>\n",
              "      <td></td>\n",
              "    </tr>\n",
              "    <tr>\n",
              "      <th>2</th>\n",
              "      <td>CTCF_binding_site</td>\n",
              "      <td>7</td>\n",
              "      <td>144935201</td>\n",
              "      <td>144936200</td>\n",
              "      <td></td>\n",
              "    </tr>\n",
              "    <tr>\n",
              "      <th>3</th>\n",
              "      <td>CTCF_binding_site</td>\n",
              "      <td>19</td>\n",
              "      <td>24612601</td>\n",
              "      <td>24613000</td>\n",
              "      <td></td>\n",
              "    </tr>\n",
              "    <tr>\n",
              "      <th>4</th>\n",
              "      <td>enhancer</td>\n",
              "      <td>8</td>\n",
              "      <td>125880801</td>\n",
              "      <td>125881000</td>\n",
              "      <td></td>\n",
              "    </tr>\n",
              "  </tbody>\n",
              "</table>\n",
              "</div>"
            ],
            "text/plain": [
              "                    so_name seq_region_name  ...  seq_region_end  seq\n",
              "0  promoter_flanking_region               8  ...         8422039     \n",
              "1  promoter_flanking_region               5  ...       103368000     \n",
              "2         CTCF_binding_site               7  ...       144936200     \n",
              "3         CTCF_binding_site              19  ...        24613000     \n",
              "4                  enhancer               8  ...       125881000     \n",
              "\n",
              "[5 rows x 5 columns]"
            ]
          },
          "metadata": {
            "tags": []
          },
          "execution_count": 112
        }
      ]
    },
    {
      "cell_type": "code",
      "metadata": {
        "colab": {
          "base_uri": "https://localhost:8080/",
          "height": 49,
          "referenced_widgets": [
            "75f6f493305746ed85a114138ba0e5d2",
            "967328ae499a40f685e573e1d634d28b",
            "659d4183716d410a8d0795f8935b950f",
            "0fa774f76a7a4452b22d2207ab046458",
            "dab7be418326456c8c402bd91d89895e",
            "f51cb8d9b5de45cfba46c493282ac2ea",
            "8d405ed5cca34c19b3a2a04b57fc9d97",
            "c84d0b54ece748858cfe288eb1cc0ad9"
          ]
        },
        "id": "SkQdwAmwgllS",
        "outputId": "218d79d5-f800-4e05-92a6-361000fcacf4"
      },
      "source": [
        "def which(self):\n",
        "    try:\n",
        "        self = list(iter(self))\n",
        "    except TypeError as e:\n",
        "        raise Exception(\"\"\"'which' method can only be applied to iterables.\n",
        "        {}\"\"\".format(str(e)))\n",
        "    indices = [i for i, x in enumerate(self) if bool(x) == True]\n",
        "    return(indices)\n",
        "\n",
        "with gzip.open(fasta_file, \"rt\") as handle:\n",
        "    for record in tqdm(SeqIO.parse(handle, \"fasta\"), total=24):\n",
        "        sel_seqs = which(seqs.seq_region_name == record.id)\n",
        "        for i in sel_seqs:\n",
        "            seqs.loc[i, \"seq\"] = str(record.seq[(seqs.seq_region_start[i]-1):seqs.seq_region_end[i]])\n",
        "        \n",
        "        if record.id == \"MT\": \n",
        "            # stop, do not read small contigs\n",
        "            break"
      ],
      "execution_count": 118,
      "outputs": [
        {
          "output_type": "display_data",
          "data": {
            "application/vnd.jupyter.widget-view+json": {
              "model_id": "75f6f493305746ed85a114138ba0e5d2",
              "version_minor": 0,
              "version_major": 2
            },
            "text/plain": [
              "HBox(children=(FloatProgress(value=0.0, max=24.0), HTML(value='')))"
            ]
          },
          "metadata": {
            "tags": []
          }
        }
      ]
    },
    {
      "cell_type": "markdown",
      "metadata": {
        "id": "sob_u2iNcCVq"
      },
      "source": [
        "# Saving to fasta"
      ]
    },
    {
      "cell_type": "code",
      "metadata": {
        "id": "ZAUpNApxNmlp"
      },
      "source": [
        "def save_to_fasta(filename, seq_df):\n",
        "  with open(filename + '.fa', 'w') as handle:\n",
        "    for index, record in seq_df.iterrows():\n",
        "      SeqIO.write(\n",
        "          SeqRecord(\n",
        "              Seq(record.seq), \n",
        "              record.so_name + '_' + record.seq_region_name + \":\" + str(record.seq_region_start) + \"..\" + str(record.seq_region_end), \n",
        "              description=\"\"\n",
        "          ), \n",
        "          handle, \n",
        "          'fasta'\n",
        "      )"
      ],
      "execution_count": 109,
      "outputs": []
    },
    {
      "cell_type": "code",
      "metadata": {
        "id": "EcFwJ263oIiR"
      },
      "source": [
        "features = seqs.so_name.unique()\n",
        "for feature in features:\n",
        "  feature_seqs = seqs[seqs.so_name == feature]\n",
        "  save_to_fasta(organism + '_' + feature, feature_seqs)"
      ],
      "execution_count": 110,
      "outputs": []
    }
  ]
}