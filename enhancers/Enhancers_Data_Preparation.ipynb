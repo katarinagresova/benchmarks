{
  "nbformat": 4,
  "nbformat_minor": 0,
  "metadata": {
    "colab": {
      "name": "Enhancers Data Preparation.ipynb",
      "provenance": [],
      "authorship_tag": "ABX9TyOCoCvqnOWk3Lzq6nLkUU8n",
      "include_colab_link": true
    },
    "kernelspec": {
      "name": "python3",
      "display_name": "Python 3"
    }
  },
  "cells": [
    {
      "cell_type": "markdown",
      "metadata": {
        "id": "view-in-github",
        "colab_type": "text"
      },
      "source": [
        "<a href=\"https://colab.research.google.com/github/katarinagresova/benchmarks/blob/main/enhancers/Enhancers_Data_Preparation.ipynb\" target=\"_parent\"><img src=\"https://colab.research.google.com/assets/colab-badge.svg\" alt=\"Open In Colab\"/></a>"
      ]
    },
    {
      "cell_type": "markdown",
      "metadata": {
        "id": "94AX9gFw7RXU"
      },
      "source": [
        "This notebook is working with data from paper [Enhancer Identification using Transfer and Adversarial Deep Learning of DNA Sequences](https://www.biorxiv.org/content/biorxiv/early/2018/02/14/264200.full.pdf). "
      ]
    },
    {
      "cell_type": "code",
      "metadata": {
        "id": "8mdwYbjlbefs"
      },
      "source": [
        "from google.colab import drive\n",
        "drive.mount('/content/drive/')"
      ],
      "execution_count": null,
      "outputs": []
    },
    {
      "cell_type": "code",
      "metadata": {
        "id": "2QIkzvcAyJ-0"
      },
      "source": [
        "!pip3 install biopython"
      ],
      "execution_count": null,
      "outputs": []
    },
    {
      "cell_type": "code",
      "metadata": {
        "id": "MUkinNl_2E0v"
      },
      "source": [
        "import urllib\n",
        "from fastai.text import *\n",
        "from Bio.Seq import Seq\n",
        "from Bio import SeqIO\n",
        "from Bio.SeqRecord import SeqRecord\n",
        "import os\n",
        "from sklearn.model_selection import train_test_split"
      ],
      "execution_count": 14,
      "outputs": []
    },
    {
      "cell_type": "code",
      "metadata": {
        "id": "ZZMbVqoE16g9"
      },
      "source": [
        "u = 'http://www.cs.huji.ac.il/~tommy//enhancer_CNN/Enhancers_vs_negative.tgz'\n",
        "path = Path('/content/drive/My Drive/Benchmarks/enhancers/Enhancers_vs_negative.tgz')\n",
        "urllib.request.urlretrieve(u, path)"
      ],
      "execution_count": null,
      "outputs": []
    },
    {
      "cell_type": "code",
      "metadata": {
        "id": "4fFIzdW2sWfH"
      },
      "source": [
        "!mkdir /content/drive/My\\ Drive/Benchmarks/enhancers/unpacked/"
      ],
      "execution_count": null,
      "outputs": []
    },
    {
      "cell_type": "code",
      "metadata": {
        "id": "g_Dq94prqh6D"
      },
      "source": [
        "!tar zxvf /content/drive/My\\ Drive/Benchmarks/enhancers/Enhancers_vs_negative.tgz -C /content/drive/My\\ Drive/Benchmarks/enhancers/unpacked/"
      ],
      "execution_count": null,
      "outputs": []
    },
    {
      "cell_type": "code",
      "metadata": {
        "id": "APcpPoOu0e53"
      },
      "source": [
        "def read_txt_to_list(txt_file):\n",
        "  seqs = []\n",
        "  with open(txt_file, 'r') as file:\n",
        "    seqs = file.read().splitlines()\n",
        "  return seqs"
      ],
      "execution_count": 11,
      "outputs": []
    },
    {
      "cell_type": "code",
      "metadata": {
        "id": "Hy311x_n3Iss"
      },
      "source": [
        "def split_train_val_test(data, train_ratio = 0.7, validation_ratio = 0.2, test_ratio = 0.1):\n",
        "\n",
        "  # Produces test split.\n",
        "  x_remaining, x_test = train_test_split(data, test_size=test_ratio, random_state=42)\n",
        "\n",
        "  # Adjusts val ratio, w.r.t. remaining dataset.\n",
        "  ratio_remaining = 1 - test_ratio\n",
        "  ratio_val_adjusted = validation_ratio / ratio_remaining\n",
        "\n",
        "  # Produces train and val splits.\n",
        "  x_train, x_val = train_test_split(x_remaining, test_size=ratio_val_adjusted, random_state=42)\n",
        "\n",
        "  return x_train, x_val, x_test"
      ],
      "execution_count": 27,
      "outputs": []
    },
    {
      "cell_type": "code",
      "metadata": {
        "id": "-joJQlFb6TZ4"
      },
      "source": [
        "def save_to_fasta(filename, data):\n",
        "  with open(filename, 'w') as handle:\n",
        "    for index, seq in enumerate(data):\n",
        "      SeqIO.write(SeqRecord(\n",
        "          Seq(seq), \n",
        "          'seq_' + str(index), \n",
        "          description=\"\"), \n",
        "        handle, 'fasta'\n",
        "      )"
      ],
      "execution_count": 30,
      "outputs": []
    },
    {
      "cell_type": "code",
      "metadata": {
        "id": "iv38S8oHskoR"
      },
      "source": [
        "def txt_to_fasta_with_split(txt_file, out_dir, prefix='positive'):\n",
        "\n",
        "  current_seqs = read_txt_to_list(txt_file)\n",
        "  x_train, x_val, x_test = split_train_val_test(current_seqs)\n",
        "\n",
        "  save_to_fasta(Path(out_dir, prefix + '_train.fa'), x_train)\n",
        "  save_to_fasta(Path(out_dir, prefix + '_valid.fa'), x_val)\n",
        "  save_to_fasta(Path(out_dir, prefix + '_test.fa'), x_test)"
      ],
      "execution_count": 32,
      "outputs": []
    },
    {
      "cell_type": "code",
      "metadata": {
        "id": "d87T1_zJ3syY"
      },
      "source": [
        "from pathlib import Path\n",
        "def make_dir(dir):\n",
        "  Path(dir).mkdir(parents=True, exist_ok=True)"
      ],
      "execution_count": 33,
      "outputs": []
    },
    {
      "cell_type": "code",
      "metadata": {
        "id": "7B4r5om_yXdC"
      },
      "source": [
        "in_dir = '/content/drive/My Drive/Benchmarks/enhancers/unpacked/'\n",
        "out_dir = '/content/drive/My Drive/Benchmarks/enhancers/prepared/'\n",
        "enhancer_file = 'positive_samples'\n",
        "negative_file = 'negative_samples'\n",
        "exclude_dir = 'peaks_fasta_files'\n",
        "for (root, subdirectories, files) in os.walk(in_dir):\n",
        "  for subdirectory in subdirectories:\n",
        "    if subdirectory != exclude_dir:\n",
        "      current_in_dir = os.path.join(root, subdirectory)\n",
        "      current_out_dir = os.path.join(out_dir, subdirectory)\n",
        "      make_dir(current_out_dir)\n",
        "\n",
        "      txt_to_fasta_with_split(current_in_dir + '/' + enhancer_file, current_out_dir, 'positive')\n",
        "      txt_to_fasta_with_split(current_in_dir + '/' + negative_file, current_out_dir, 'negative')"
      ],
      "execution_count": 36,
      "outputs": []
    }
  ]
}