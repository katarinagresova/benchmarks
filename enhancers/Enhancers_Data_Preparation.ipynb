{
  "nbformat": 4,
  "nbformat_minor": 0,
  "metadata": {
    "colab": {
      "name": "Enhancers Data Preparation.ipynb",
      "provenance": [],
      "authorship_tag": "ABX9TyOHtCh/UFnSIzUbLnPcjDsV",
      "include_colab_link": true
    },
    "kernelspec": {
      "name": "python3",
      "display_name": "Python 3"
    }
  },
  "cells": [
    {
      "cell_type": "markdown",
      "metadata": {
        "id": "view-in-github",
        "colab_type": "text"
      },
      "source": [
        "<a href=\"https://colab.research.google.com/github/katarinagresova/benchmarks/blob/main/enhancers/Enhancers_Data_Preparation.ipynb\" target=\"_parent\"><img src=\"https://colab.research.google.com/assets/colab-badge.svg\" alt=\"Open In Colab\"/></a>"
      ]
    },
    {
      "cell_type": "markdown",
      "metadata": {
        "id": "94AX9gFw7RXU"
      },
      "source": [
        "This notebook is working with data from paper [Enhancer Identification using Transfer and Adversarial Deep Learning of DNA Sequences](https://www.biorxiv.org/content/biorxiv/early/2018/02/14/264200.full.pdf). "
      ]
    },
    {
      "cell_type": "code",
      "metadata": {
        "id": "8mdwYbjlbefs",
        "outputId": "0097cba8-d0dd-4859-e859-1f1ca12217e4",
        "colab": {
          "base_uri": "https://localhost:8080/"
        }
      },
      "source": [
        "from google.colab import drive\n",
        "drive.mount('/content/drive/')"
      ],
      "execution_count": 1,
      "outputs": [
        {
          "output_type": "stream",
          "text": [
            "Mounted at /content/drive/\n"
          ],
          "name": "stdout"
        }
      ]
    },
    {
      "cell_type": "code",
      "metadata": {
        "id": "2QIkzvcAyJ-0",
        "outputId": "252000ea-fda3-41b1-c0b7-768b54297903",
        "colab": {
          "base_uri": "https://localhost:8080/"
        }
      },
      "source": [
        "!pip3 install biopython"
      ],
      "execution_count": 2,
      "outputs": [
        {
          "output_type": "stream",
          "text": [
            "Collecting biopython\n",
            "\u001b[?25l  Downloading https://files.pythonhosted.org/packages/76/02/8b606c4aa92ff61b5eda71d23b499ab1de57d5e818be33f77b01a6f435a8/biopython-1.78-cp36-cp36m-manylinux1_x86_64.whl (2.3MB)\n",
            "\u001b[K     |████████████████████████████████| 2.3MB 2.7MB/s \n",
            "\u001b[?25hRequirement already satisfied: numpy in /usr/local/lib/python3.6/dist-packages (from biopython) (1.18.5)\n",
            "Installing collected packages: biopython\n",
            "Successfully installed biopython-1.78\n"
          ],
          "name": "stdout"
        }
      ]
    },
    {
      "cell_type": "code",
      "metadata": {
        "id": "MUkinNl_2E0v"
      },
      "source": [
        "import urllib\n",
        "from fastai.text import *\n",
        "from Bio.Seq import Seq\n",
        "from Bio import SeqIO\n",
        "from Bio.SeqRecord import SeqRecord\n",
        "import os"
      ],
      "execution_count": 3,
      "outputs": []
    },
    {
      "cell_type": "code",
      "metadata": {
        "id": "ZZMbVqoE16g9",
        "outputId": "068eb03b-e969-44f9-fd18-f391ebde5bbf",
        "colab": {
          "base_uri": "https://localhost:8080/"
        }
      },
      "source": [
        "u = 'http://www.cs.huji.ac.il/~tommy//enhancer_CNN/Enhancers_vs_negative.tgz'\n",
        "path = Path('/content/drive/My Drive/Benchmarks/enhancers/Enhancers_vs_negative.tgz')\n",
        "urllib.request.urlretrieve(u, path)"
      ],
      "execution_count": 14,
      "outputs": [
        {
          "output_type": "execute_result",
          "data": {
            "text/plain": [
              "(PosixPath('/content/drive/My Drive/Benchmarks/enhancers/Enhancers_vs_negative.tgz'),\n",
              " <http.client.HTTPMessage at 0x7f2b1bb54390>)"
            ]
          },
          "metadata": {
            "tags": []
          },
          "execution_count": 14
        }
      ]
    },
    {
      "cell_type": "code",
      "metadata": {
        "id": "4fFIzdW2sWfH"
      },
      "source": [
        "!mkdir /content/drive/My\\ Drive/Benchmarks/enhancers/unpacked/"
      ],
      "execution_count": 24,
      "outputs": []
    },
    {
      "cell_type": "code",
      "metadata": {
        "id": "g_Dq94prqh6D"
      },
      "source": [
        "!tar zxvf /content/drive/My\\ Drive/Benchmarks/enhancers/Enhancers_vs_negative.tgz -C /content/drive/My\\ Drive/Benchmarks/enhancers/unpacked/"
      ],
      "execution_count": null,
      "outputs": []
    },
    {
      "cell_type": "code",
      "metadata": {
        "id": "iv38S8oHskoR"
      },
      "source": [
        "def txt_to_fasta(txt_file, fasta_file):\n",
        "  with open(txt_file, 'r') as input:\n",
        "    with open(fasta_file, 'w') as output:\n",
        "      index = 0\n",
        "      for sequence in input:\n",
        "        SeqIO.write(\n",
        "          SeqRecord(\n",
        "            #sequence[:-1] to remove trailing \\n\n",
        "            Seq(sequence[:-1]), \n",
        "            'seq_' + str(index), description=\"\"\n",
        "          ), \n",
        "          output, \n",
        "          'fasta'\n",
        "        )\n",
        "        index += 1"
      ],
      "execution_count": 29,
      "outputs": []
    },
    {
      "cell_type": "code",
      "metadata": {
        "id": "d87T1_zJ3syY"
      },
      "source": [
        "from pathlib import Path\n",
        "def make_dir(dir):\n",
        "  Path(dir).mkdir(parents=True, exist_ok=True)"
      ],
      "execution_count": 20,
      "outputs": []
    },
    {
      "cell_type": "code",
      "metadata": {
        "id": "7B4r5om_yXdC"
      },
      "source": [
        "in_dir = '/content/drive/My Drive/Benchmarks/enhancers/unpacked/'\n",
        "out_dir = '/content/drive/My Drive/Benchmarks/enhancers/prepared/'\n",
        "enhancer_file = 'positive_samples'\n",
        "negative_file = 'negative_samples'\n",
        "exclude_dir = 'peaks_fasta_files'\n",
        "for (root, subdirectories, files) in os.walk(in_dir):\n",
        "  for subdirectory in subdirectories:\n",
        "    if subdirectory != exclude_dir:\n",
        "      current_in_dir = os.path.join(root, subdirectory)\n",
        "      current_out_dir = os.path.join(out_dir, subdirectory)\n",
        "      make_dir(current_out_dir)\n",
        "      txt_to_fasta(current_in_dir + '/' + enhancer_file, current_out_dir + '/' + enhancer_file + \".fa\")\n",
        "      txt_to_fasta(current_in_dir + '/' + negative_file, current_out_dir + '/' + negative_file + \".fa\")"
      ],
      "execution_count": null,
      "outputs": []
    }
  ]
}