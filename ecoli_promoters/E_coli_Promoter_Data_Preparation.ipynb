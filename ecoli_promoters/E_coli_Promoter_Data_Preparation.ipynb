{
  "nbformat": 4,
  "nbformat_minor": 0,
  "metadata": {
    "kernelspec": {
      "display_name": "Python 3",
      "language": "python",
      "name": "python3"
    },
    "language_info": {
      "codemirror_mode": {
        "name": "ipython",
        "version": 3
      },
      "file_extension": ".py",
      "mimetype": "text/x-python",
      "name": "python",
      "nbconvert_exporter": "python",
      "pygments_lexer": "ipython3",
      "version": "3.7.2"
    },
    "colab": {
      "name": "E. coli Promoter Data Preparation.ipynb",
      "provenance": [],
      "toc_visible": true,
      "include_colab_link": true
    },
    "accelerator": "GPU"
  },
  "cells": [
    {
      "cell_type": "markdown",
      "metadata": {
        "id": "view-in-github",
        "colab_type": "text"
      },
      "source": [
        "<a href=\"https://colab.research.google.com/github/katarinagresova/benchmarks/blob/main/ecoli_promoters/E_coli_Promoter_Data_Preparation.ipynb\" target=\"_parent\"><img src=\"https://colab.research.google.com/assets/colab-badge.svg\" alt=\"Open In Colab\"/></a>"
      ]
    },
    {
      "cell_type": "markdown",
      "metadata": {
        "id": "A5B9_ZLqalfY"
      },
      "source": [
        "# E. coli Promoter Data Preparation\n",
        "\n",
        "This notebook is based in E. coli Data Processing notebook from [Genomic ULMFiT](https://github.com/kheyer/Genomic-ULMFiT). It creates he following dataset:\n",
        "\n",
        "#### E. coli Promoter Classification\n",
        "This dataframe will contain E. coli promoters, defined as -100/+50 base pairs from each annotated transcription start site. The classification data will also include negative examples of the same length taken from regions not including a TSS. Taking promoter sequences based on TSS locations runs the risk of putting highly similar promoters into the dataset. To construct meaningful test and validation sets to evaluate the model, we must ensure that sequences in the test/validation sets are sufficiently different from sequences in the training set. This is done using a method described below."
      ]
    },
    {
      "cell_type": "markdown",
      "metadata": {
        "id": "ifbbhHnFq5eB"
      },
      "source": [
        "# Data Source\n",
        "E. coli genomic data and TSS locations are taken from the E. coli reference genome genbank file available at [NCBI](https://www.ncbi.nlm.nih.gov/genome/?term=escherichia%20coli)"
      ]
    },
    {
      "cell_type": "code",
      "metadata": {
        "id": "2SAqzTYXalfb"
      },
      "source": [
        "%reload_ext autoreload\n",
        "%autoreload 2\n",
        "%matplotlib inline"
      ],
      "execution_count": 1,
      "outputs": []
    },
    {
      "cell_type": "code",
      "metadata": {
        "id": "aBggdWg1c5dL",
        "colab": {
          "base_uri": "https://localhost:8080/"
        },
        "outputId": "db014c42-09bb-4677-db59-0e562b61f61c"
      },
      "source": [
        "!pip3 install biopython"
      ],
      "execution_count": 2,
      "outputs": [
        {
          "output_type": "stream",
          "text": [
            "Collecting biopython\n",
            "\u001b[?25l  Downloading https://files.pythonhosted.org/packages/76/02/8b606c4aa92ff61b5eda71d23b499ab1de57d5e818be33f77b01a6f435a8/biopython-1.78-cp36-cp36m-manylinux1_x86_64.whl (2.3MB)\n",
            "\u001b[K     |████████████████████████████████| 2.3MB 4.0MB/s \n",
            "\u001b[?25hRequirement already satisfied: numpy in /usr/local/lib/python3.6/dist-packages (from biopython) (1.19.5)\n",
            "Installing collected packages: biopython\n",
            "Successfully installed biopython-1.78\n"
          ],
          "name": "stdout"
        }
      ]
    },
    {
      "cell_type": "code",
      "metadata": {
        "id": "JTy7T7sMalff"
      },
      "source": [
        "from fastai import *\n",
        "from fastai.text import *\n",
        "from Bio import Seq\n",
        "from Bio.Seq import Seq\n",
        "from Bio import SeqIO\n",
        "from Bio.SeqRecord import SeqRecord\n",
        "from Bio.SeqFeature import FeatureLocation, CompoundLocation\n",
        "import networkx as nx\n",
        "import urllib\n",
        "import os"
      ],
      "execution_count": 3,
      "outputs": []
    },
    {
      "cell_type": "code",
      "metadata": {
        "id": "qPdPdcMWalfj",
        "colab": {
          "base_uri": "https://localhost:8080/"
        },
        "outputId": "1cb42479-1bf6-4259-d5eb-a71c0ad493f8"
      },
      "source": [
        "from google.colab import drive\n",
        "drive.mount('/content/drive/')"
      ],
      "execution_count": 4,
      "outputs": [
        {
          "output_type": "stream",
          "text": [
            "Mounted at /content/drive/\n"
          ],
          "name": "stdout"
        }
      ]
    },
    {
      "cell_type": "markdown",
      "metadata": {
        "id": "5_06uPhuotyH"
      },
      "source": [
        "Choose path where data will be stored."
      ]
    },
    {
      "cell_type": "code",
      "metadata": {
        "id": "MCfK-VF1alfo"
      },
      "source": [
        "path = Path('/content/drive/My Drive/Benchmarks/ecoli_promoters/')"
      ],
      "execution_count": 5,
      "outputs": []
    },
    {
      "cell_type": "code",
      "metadata": {
        "id": "i1nITwYNalf_"
      },
      "source": [
        "fname = 'GCF_000005845.2_ASM584v2_genomic.gbff'\n",
        "gz_path_to_file = Path(path, fname + \".gz\")"
      ],
      "execution_count": 6,
      "outputs": []
    },
    {
      "cell_type": "code",
      "metadata": {
        "id": "f0fMXEPUrs3C",
        "colab": {
          "base_uri": "https://localhost:8080/"
        },
        "outputId": "ed622c9b-d37d-4a81-8f86-b04fd12aa2a1"
      },
      "source": [
        "u = \"https://ftp.ncbi.nlm.nih.gov/genomes/all/GCF/000/005/845/GCF_000005845.2_ASM584v2/GCF_000005845.2_ASM584v2_genomic.gbff.gz\"\n",
        "urllib.request.urlretrieve(u, gz_path_to_file)"
      ],
      "execution_count": 7,
      "outputs": [
        {
          "output_type": "execute_result",
          "data": {
            "text/plain": [
              "(PosixPath('/content/drive/My Drive/Benchmarks/ecoli_promoters/GCF_000005845.2_ASM584v2_genomic.gbff.gz'),\n",
              " <http.client.HTTPMessage at 0x7ff44525da90>)"
            ]
          },
          "metadata": {
            "tags": []
          },
          "execution_count": 7
        }
      ]
    },
    {
      "cell_type": "markdown",
      "metadata": {
        "id": "3i51E0TlvRVt"
      },
      "source": [
        "Unpack donwloaded file from .gz to be able to use it later."
      ]
    },
    {
      "cell_type": "code",
      "metadata": {
        "id": "6xmETAi7ts40"
      },
      "source": [
        "import gzip\n",
        "import shutil\n",
        "with gzip.open(gz_path_to_file, 'rb') as f_in:\n",
        "    with open(path/fname, 'wb') as f_out:\n",
        "        shutil.copyfileobj(f_in, f_out)"
      ],
      "execution_count": 8,
      "outputs": []
    },
    {
      "cell_type": "markdown",
      "metadata": {
        "id": "SdlcN98Zalf_"
      },
      "source": [
        "# Classification Data"
      ]
    },
    {
      "cell_type": "code",
      "metadata": {
        "id": "rUYEiegialgC"
      },
      "source": [
        "GB = next(SeqIO.parse(path/fname, \"genbank\"))"
      ],
      "execution_count": 9,
      "outputs": []
    },
    {
      "cell_type": "code",
      "metadata": {
        "id": "Z5XqtxO-algF"
      },
      "source": [
        "# Extract promoter regions\n",
        "# All sequences saved as sense strands\n",
        "def extract_promoter(feature):\n",
        "    quals = list(feature.qualifiers.keys())\n",
        "    \n",
        "    if 'gene' in quals:\n",
        "        gene = feature.qualifiers['gene']\n",
        "    else:\n",
        "        gene = None\n",
        "        \n",
        "    if 'locus_tag' in quals:\n",
        "        locus = feature.qualifiers['locus_tag']\n",
        "    else:\n",
        "        locus = None\n",
        "        \n",
        "    cds_loc = str(feature.location)\n",
        "    cds_start = feature.location.start.position\n",
        "    cds_end = feature.location.end.position\n",
        "    p_start = cds_start - 100\n",
        "    p_end = cds_end + 100\n",
        "    \n",
        "    if feature.strand == -1:\n",
        "        orient = 'reverse'\n",
        "        promoter = GB[cds_end-50:p_end].reverse_complement().seq.__str__()\n",
        "        promoter_loc = f\"[{cds_end-50}:{p_end}]\" + f\"{cds_loc[-3:]}\"\n",
        "                \n",
        "    else:\n",
        "        orient = 'forward'\n",
        "        promoter = GB[p_start:cds_start+50].seq.__str__()\n",
        "        promoter_loc = f\"[{p_start}:{cds_start+50}]\" + f\"{cds_loc[-3:]}\"\n",
        "                    \n",
        "    promoter_data = [gene, locus, cds_loc, promoter_loc, orient, promoter, 1]\n",
        "    \n",
        "    return promoter_data"
      ],
      "execution_count": 10,
      "outputs": []
    },
    {
      "cell_type": "code",
      "metadata": {
        "id": "7tFSQWAaalgI"
      },
      "source": [
        "# Extract negative examples\n",
        "def extract_gene(feature):\n",
        "    quals = list(feature.qualifiers.keys())\n",
        "    \n",
        "    if 'gene' in quals:\n",
        "        gene = feature.qualifiers['gene']\n",
        "    else:\n",
        "        gene = None\n",
        "        \n",
        "    if 'locus_tag' in quals:\n",
        "        locus = feature.qualifiers['locus_tag']\n",
        "    else:\n",
        "        locus = None\n",
        "        \n",
        "    cds_loc = str(feature.location)\n",
        "    cds_start = feature.location.start.position\n",
        "    cds_end = feature.location.end.position\n",
        "    \n",
        "    gene_len = (cds_end-50) - (cds_start + 50)\n",
        "    \n",
        "    if gene_len > 150:\n",
        "        rand_start = np.random.randint(cds_start+50, cds_end-200)\n",
        "        rand_gene = GB[rand_start:rand_start+150]\n",
        "        rand_gene_loc = f\"[{rand_start}:{rand_start+150}]\" + f\"{cds_loc[-3:]}\"\n",
        "            \n",
        "        if feature.strand == -1:\n",
        "            orient = 'reverse'\n",
        "            rand_gene = rand_gene.reverse_complement().seq.__str__()\n",
        "            \n",
        "        else:\n",
        "            orient = 'forward'\n",
        "            rand_gene = rand_gene.seq.__str__()\n",
        "            \n",
        "        gene_data = [gene, locus, cds_loc, rand_gene_loc, orient, rand_gene, 0]\n",
        "        return gene_data\n",
        "\n",
        "    else:\n",
        "        return False"
      ],
      "execution_count": 11,
      "outputs": []
    },
    {
      "cell_type": "code",
      "metadata": {
        "id": "J3m3iZfIalgL"
      },
      "source": [
        "proms = []\n",
        "for feature in GB.features:\n",
        "    if feature.type == 'CDS':\n",
        "        proms.append(extract_promoter(feature))"
      ],
      "execution_count": 12,
      "outputs": []
    },
    {
      "cell_type": "code",
      "metadata": {
        "id": "dGtVspZralgP"
      },
      "source": [
        "prom_df = pd.DataFrame(proms, columns=['Gene', 'Locus', 'Location', 'Sample Location', 'Orientation', 'Sequence', 'Promoter'])"
      ],
      "execution_count": 13,
      "outputs": []
    },
    {
      "cell_type": "code",
      "metadata": {
        "id": "6vXJm535algT"
      },
      "source": [
        "genes = []\n",
        "for feature in GB.features:\n",
        "    if feature.type == 'CDS':\n",
        "        gene = extract_gene(feature)\n",
        "        if gene:\n",
        "            genes.append(gene)"
      ],
      "execution_count": 14,
      "outputs": []
    },
    {
      "cell_type": "code",
      "metadata": {
        "id": "vcErLToualgW"
      },
      "source": [
        "gene_df = pd.DataFrame(genes, columns=['Gene', 'Locus', 'Location', 'Sample Location', 'Orientation', 'Sequence', 'Promoter'])"
      ],
      "execution_count": 15,
      "outputs": []
    },
    {
      "cell_type": "code",
      "metadata": {
        "id": "ySv_lDaOalga",
        "colab": {
          "base_uri": "https://localhost:8080/"
        },
        "outputId": "aab98e11-c7b8-4139-dd92-50f3bb71d408"
      },
      "source": [
        "# Approximately 4000 positive and negative examples\n",
        "prom_df.shape, gene_df.shape"
      ],
      "execution_count": 16,
      "outputs": [
        {
          "output_type": "execute_result",
          "data": {
            "text/plain": [
              "((4357, 7), (4014, 7))"
            ]
          },
          "metadata": {
            "tags": []
          },
          "execution_count": 16
        }
      ]
    },
    {
      "cell_type": "code",
      "metadata": {
        "id": "QXTvcqG3alge"
      },
      "source": [
        "promoter_data = pd.concat([prom_df, gene_df])"
      ],
      "execution_count": 17,
      "outputs": []
    },
    {
      "cell_type": "code",
      "metadata": {
        "id": "0vKVLXaDalgh",
        "colab": {
          "base_uri": "https://localhost:8080/"
        },
        "outputId": "c8a53f05-d557-404a-8281-12dd68e046f6"
      },
      "source": [
        "promoter_data.shape"
      ],
      "execution_count": 18,
      "outputs": [
        {
          "output_type": "execute_result",
          "data": {
            "text/plain": [
              "(8371, 7)"
            ]
          },
          "metadata": {
            "tags": []
          },
          "execution_count": 18
        }
      ]
    },
    {
      "cell_type": "code",
      "metadata": {
        "id": "oTlkhUhQalgk",
        "colab": {
          "base_uri": "https://localhost:8080/",
          "height": 326
        },
        "outputId": "ba2e9664-71cf-4851-8c92-7909ecefbc48"
      },
      "source": [
        "promoter_data.head()"
      ],
      "execution_count": 19,
      "outputs": [
        {
          "output_type": "execute_result",
          "data": {
            "text/html": [
              "<div>\n",
              "<style scoped>\n",
              "    .dataframe tbody tr th:only-of-type {\n",
              "        vertical-align: middle;\n",
              "    }\n",
              "\n",
              "    .dataframe tbody tr th {\n",
              "        vertical-align: top;\n",
              "    }\n",
              "\n",
              "    .dataframe thead th {\n",
              "        text-align: right;\n",
              "    }\n",
              "</style>\n",
              "<table border=\"1\" class=\"dataframe\">\n",
              "  <thead>\n",
              "    <tr style=\"text-align: right;\">\n",
              "      <th></th>\n",
              "      <th>Gene</th>\n",
              "      <th>Locus</th>\n",
              "      <th>Location</th>\n",
              "      <th>Sample Location</th>\n",
              "      <th>Orientation</th>\n",
              "      <th>Sequence</th>\n",
              "      <th>Promoter</th>\n",
              "    </tr>\n",
              "  </thead>\n",
              "  <tbody>\n",
              "    <tr>\n",
              "      <th>0</th>\n",
              "      <td>[thrL]</td>\n",
              "      <td>[b0001]</td>\n",
              "      <td>[189:255](+)</td>\n",
              "      <td>[89:239](+)</td>\n",
              "      <td>forward</td>\n",
              "      <td>CGTGAGTAAATTAAAATTTTATTGACTTAGGTCACTAAATACTTTA...</td>\n",
              "      <td>1</td>\n",
              "    </tr>\n",
              "    <tr>\n",
              "      <th>1</th>\n",
              "      <td>[thrA]</td>\n",
              "      <td>[b0002]</td>\n",
              "      <td>[336:2799](+)</td>\n",
              "      <td>[236:386](+)</td>\n",
              "      <td>forward</td>\n",
              "      <td>AGGTAACGGTGCGGGCTGACGCGTACAGGAAACACAGAAAAAAGCC...</td>\n",
              "      <td>1</td>\n",
              "    </tr>\n",
              "    <tr>\n",
              "      <th>2</th>\n",
              "      <td>[thrB]</td>\n",
              "      <td>[b0003]</td>\n",
              "      <td>[2800:3733](+)</td>\n",
              "      <td>[2700:2850](+)</td>\n",
              "      <td>forward</td>\n",
              "      <td>CCGTTGGTACTGCGCGGATATGGTGCGGGCAATGACGTTACAGCTG...</td>\n",
              "      <td>1</td>\n",
              "    </tr>\n",
              "    <tr>\n",
              "      <th>3</th>\n",
              "      <td>[thrC]</td>\n",
              "      <td>[b0004]</td>\n",
              "      <td>[3733:5020](+)</td>\n",
              "      <td>[3633:3783](+)</td>\n",
              "      <td>forward</td>\n",
              "      <td>CGTTGCCGACTGGTTGGGTAAGAACTACCTGCAAAATCAGGAAGGT...</td>\n",
              "      <td>1</td>\n",
              "    </tr>\n",
              "    <tr>\n",
              "      <th>4</th>\n",
              "      <td>[yaaX]</td>\n",
              "      <td>[b0005]</td>\n",
              "      <td>[5233:5530](+)</td>\n",
              "      <td>[5133:5283](+)</td>\n",
              "      <td>forward</td>\n",
              "      <td>GTAACTTAGAGATTAGGATTGCGGAGAATAACAACCGCCGTTCTCA...</td>\n",
              "      <td>1</td>\n",
              "    </tr>\n",
              "  </tbody>\n",
              "</table>\n",
              "</div>"
            ],
            "text/plain": [
              "     Gene    Locus  ...                                           Sequence Promoter\n",
              "0  [thrL]  [b0001]  ...  CGTGAGTAAATTAAAATTTTATTGACTTAGGTCACTAAATACTTTA...        1\n",
              "1  [thrA]  [b0002]  ...  AGGTAACGGTGCGGGCTGACGCGTACAGGAAACACAGAAAAAAGCC...        1\n",
              "2  [thrB]  [b0003]  ...  CCGTTGGTACTGCGCGGATATGGTGCGGGCAATGACGTTACAGCTG...        1\n",
              "3  [thrC]  [b0004]  ...  CGTTGCCGACTGGTTGGGTAAGAACTACCTGCAAAATCAGGAAGGT...        1\n",
              "4  [yaaX]  [b0005]  ...  GTAACTTAGAGATTAGGATTGCGGAGAATAACAACCGCCGTTCTCA...        1\n",
              "\n",
              "[5 rows x 7 columns]"
            ]
          },
          "metadata": {
            "tags": []
          },
          "execution_count": 19
        }
      ]
    },
    {
      "cell_type": "markdown",
      "metadata": {
        "id": "Fa4kPHlYalgq"
      },
      "source": [
        "# Sequence Similarity\n",
        "\n",
        "It's highly likely that there are promoter sequences in the dataset that share sequence similarity. We need to make sure similar sequences don't get split into training and validation/test sets.\n",
        "\n",
        "We use a BLAST search to identify homologies between sequences. We use the information from the BLAST search to create a graph, where each sequence is a node connected to other sequences that share homology. We then grab a maximal independent set from the graph. We can safely put sequences identified as independent into validation/test sets.\n",
        "\n",
        "Sequences sharing more than 15 base pairs of homology are considered similar.\n",
        "\n",
        "10% of sequences will be set aside for the test set. Of the 90% of sequences that remain, 10% of those will be set aside for a validation set. The remaining sequences will be used for training."
      ]
    },
    {
      "cell_type": "code",
      "metadata": {
        "id": "yHSBVgCjwL4q"
      },
      "source": [
        "df = promoter_data"
      ],
      "execution_count": 20,
      "outputs": []
    },
    {
      "cell_type": "code",
      "metadata": {
        "id": "zmWHYP8Talg1"
      },
      "source": [
        "# Write sequences to fasta file\n",
        "with open('sequences.fasta', 'w') as out:\n",
        "    for i in range(len(df)):\n",
        "        out.write('>' + str(df.index[i]) + '\\n' + df.Sequence.iloc[i] + '\\n')"
      ],
      "execution_count": 21,
      "outputs": []
    },
    {
      "cell_type": "code",
      "metadata": {
        "id": "jG6Qow4FgmjK",
        "colab": {
          "base_uri": "https://localhost:8080/"
        },
        "outputId": "e198c891-dda2-4f73-dd2a-0853393dd130"
      },
      "source": [
        "!apt-get install ncbi-blast+"
      ],
      "execution_count": 22,
      "outputs": [
        {
          "output_type": "stream",
          "text": [
            "Reading package lists... Done\n",
            "Building dependency tree       \n",
            "Reading state information... Done\n",
            "The following additional packages will be installed:\n",
            "  ncbi-data\n",
            "The following NEW packages will be installed:\n",
            "  ncbi-blast+ ncbi-data\n",
            "0 upgraded, 2 newly installed, 0 to remove and 16 not upgraded.\n",
            "Need to get 13.1 MB of archives.\n",
            "After this operation, 66.7 MB of additional disk space will be used.\n",
            "Get:1 http://archive.ubuntu.com/ubuntu bionic/universe amd64 ncbi-data all 6.1.20170106-2 [3,645 kB]\n",
            "Get:2 http://archive.ubuntu.com/ubuntu bionic/universe amd64 ncbi-blast+ amd64 2.6.0-1 [9,446 kB]\n",
            "Fetched 13.1 MB in 3s (3,871 kB/s)\n",
            "Selecting previously unselected package ncbi-data.\n",
            "(Reading database ... 145483 files and directories currently installed.)\n",
            "Preparing to unpack .../ncbi-data_6.1.20170106-2_all.deb ...\n",
            "Unpacking ncbi-data (6.1.20170106-2) ...\n",
            "Selecting previously unselected package ncbi-blast+.\n",
            "Preparing to unpack .../ncbi-blast+_2.6.0-1_amd64.deb ...\n",
            "Unpacking ncbi-blast+ (2.6.0-1) ...\n",
            "Setting up ncbi-data (6.1.20170106-2) ...\n",
            "Setting up ncbi-blast+ (2.6.0-1) ...\n",
            "Processing triggers for hicolor-icon-theme (0.17-2) ...\n",
            "Processing triggers for man-db (2.8.3-2ubuntu0.1) ...\n"
          ],
          "name": "stdout"
        }
      ]
    },
    {
      "cell_type": "code",
      "metadata": {
        "id": "y_1a9MQ7alg5",
        "colab": {
          "base_uri": "https://localhost:8080/"
        },
        "outputId": "d7aa8337-2002-4db7-aa67-e8069b9c723a"
      },
      "source": [
        "!makeblastdb -in sequences.fasta -dbtype 'nucl' -out hom_arm_db"
      ],
      "execution_count": 23,
      "outputs": [
        {
          "output_type": "stream",
          "text": [
            "\n",
            "\n",
            "Building a new DB, current time: 01/13/2021 07:03:26\n",
            "New DB name:   /content/hom_arm_db\n",
            "New DB title:  sequences.fasta\n",
            "Sequence type: Nucleotide\n",
            "Keep MBits: T\n",
            "Maximum file size: 1000000000B\n",
            "Adding sequences from FASTA; added 8371 sequences in 0.159079 seconds.\n"
          ],
          "name": "stdout"
        }
      ]
    },
    {
      "cell_type": "code",
      "metadata": {
        "id": "ZTRBRKEdalhA"
      },
      "source": [
        "!blastn -db hom_arm_db -query sequences.fasta -word_size 15 -out out_1.csv -outfmt 6"
      ],
      "execution_count": 24,
      "outputs": []
    },
    {
      "cell_type": "code",
      "metadata": {
        "id": "cI08urM6alhE"
      },
      "source": [
        "blast_cols = ['Query', 'Subject', '%ident', 'Length', 'Mismatch', 'Gaps', 'qstart', 'qend',\n",
        "                 'sstart', 'send', 'evalue', 'bitscore']\n",
        "df_out = pd.read_csv('out_1.csv', sep='\\t', header=None)\n",
        "df_out.columns = blast_cols\n",
        "df_out = df_out[df_out.Query != df_out.Subject]\n",
        "df_out.reset_index(inplace=True, drop=True)"
      ],
      "execution_count": 25,
      "outputs": []
    },
    {
      "cell_type": "code",
      "metadata": {
        "id": "aT6ALFY4alhH"
      },
      "source": [
        "df_inter = df_out[['Query', 'Subject']]\n",
        "df_inter = df_inter.drop_duplicates()"
      ],
      "execution_count": 26,
      "outputs": []
    },
    {
      "cell_type": "code",
      "metadata": {
        "id": "dvaFUXXbalhK"
      },
      "source": [
        "def link_list(hom, overlaps, hom_names):\n",
        "    links = overlaps[overlaps.Query == hom].Subject.values\n",
        "    links = links[np.isin(links, hom_names)]\n",
        "    links = [(hom, i) for i in links]\n",
        "\n",
        "    return links"
      ],
      "execution_count": 27,
      "outputs": []
    },
    {
      "cell_type": "code",
      "metadata": {
        "id": "g3MgQFV-alhO"
      },
      "source": [
        "def max_pooling(hom_names_list, hom_overlap_list, link_dict_in):\n",
        "    G = nx.Graph()\n",
        "    G.add_nodes_from(hom_names_list)\n",
        "\n",
        "    for i in hom_overlap_list:\n",
        "        G.add_edges_from(link_dict_in[i])\n",
        "\n",
        "    return nx.maximal_independent_set(G)"
      ],
      "execution_count": 28,
      "outputs": []
    },
    {
      "cell_type": "code",
      "metadata": {
        "id": "aEiESMmoalhR"
      },
      "source": [
        "link_dict = {}\n",
        "for hom in df_inter.Query.unique():\n",
        "    link_dict[hom] = link_list(hom, df_inter, df.index.values)"
      ],
      "execution_count": 29,
      "outputs": []
    },
    {
      "cell_type": "code",
      "metadata": {
        "id": "tQ4Y9U58alhV"
      },
      "source": [
        "ind_set = np.array(max_pooling(df.index.values, df_inter.Query.unique(), link_dict))"
      ],
      "execution_count": 30,
      "outputs": []
    },
    {
      "cell_type": "markdown",
      "metadata": {
        "id": "mEqvxzX2alhY"
      },
      "source": [
        "7907 sequences are independent, as defined as having less than 15 base pairs of homology to another sequence in the dataset"
      ]
    },
    {
      "cell_type": "code",
      "metadata": {
        "id": "lW4yEBaAalhY",
        "colab": {
          "base_uri": "https://localhost:8080/"
        },
        "outputId": "fa25f4f9-89b3-4db9-f8cc-673580720160"
      },
      "source": [
        "len(ind_set)"
      ],
      "execution_count": 31,
      "outputs": [
        {
          "output_type": "execute_result",
          "data": {
            "text/plain": [
              "2638"
            ]
          },
          "metadata": {
            "tags": []
          },
          "execution_count": 31
        }
      ]
    },
    {
      "cell_type": "code",
      "metadata": {
        "id": "gGQEYv-halhb"
      },
      "source": [
        "df['Independent'] = df.index.map(lambda x: x in ind_set)"
      ],
      "execution_count": 32,
      "outputs": []
    },
    {
      "cell_type": "code",
      "metadata": {
        "id": "5aSCZtVZalhe",
        "colab": {
          "base_uri": "https://localhost:8080/",
          "height": 549
        },
        "outputId": "1facb27c-30f4-4e69-939c-c4b5e396300e"
      },
      "source": [
        "df.head(10)"
      ],
      "execution_count": 33,
      "outputs": [
        {
          "output_type": "execute_result",
          "data": {
            "text/html": [
              "<div>\n",
              "<style scoped>\n",
              "    .dataframe tbody tr th:only-of-type {\n",
              "        vertical-align: middle;\n",
              "    }\n",
              "\n",
              "    .dataframe tbody tr th {\n",
              "        vertical-align: top;\n",
              "    }\n",
              "\n",
              "    .dataframe thead th {\n",
              "        text-align: right;\n",
              "    }\n",
              "</style>\n",
              "<table border=\"1\" class=\"dataframe\">\n",
              "  <thead>\n",
              "    <tr style=\"text-align: right;\">\n",
              "      <th></th>\n",
              "      <th>Gene</th>\n",
              "      <th>Locus</th>\n",
              "      <th>Location</th>\n",
              "      <th>Sample Location</th>\n",
              "      <th>Orientation</th>\n",
              "      <th>Sequence</th>\n",
              "      <th>Promoter</th>\n",
              "      <th>Independent</th>\n",
              "    </tr>\n",
              "  </thead>\n",
              "  <tbody>\n",
              "    <tr>\n",
              "      <th>0</th>\n",
              "      <td>[thrL]</td>\n",
              "      <td>[b0001]</td>\n",
              "      <td>[189:255](+)</td>\n",
              "      <td>[89:239](+)</td>\n",
              "      <td>forward</td>\n",
              "      <td>CGTGAGTAAATTAAAATTTTATTGACTTAGGTCACTAAATACTTTA...</td>\n",
              "      <td>1</td>\n",
              "      <td>True</td>\n",
              "    </tr>\n",
              "    <tr>\n",
              "      <th>1</th>\n",
              "      <td>[thrA]</td>\n",
              "      <td>[b0002]</td>\n",
              "      <td>[336:2799](+)</td>\n",
              "      <td>[236:386](+)</td>\n",
              "      <td>forward</td>\n",
              "      <td>AGGTAACGGTGCGGGCTGACGCGTACAGGAAACACAGAAAAAAGCC...</td>\n",
              "      <td>1</td>\n",
              "      <td>True</td>\n",
              "    </tr>\n",
              "    <tr>\n",
              "      <th>2</th>\n",
              "      <td>[thrB]</td>\n",
              "      <td>[b0003]</td>\n",
              "      <td>[2800:3733](+)</td>\n",
              "      <td>[2700:2850](+)</td>\n",
              "      <td>forward</td>\n",
              "      <td>CCGTTGGTACTGCGCGGATATGGTGCGGGCAATGACGTTACAGCTG...</td>\n",
              "      <td>1</td>\n",
              "      <td>True</td>\n",
              "    </tr>\n",
              "    <tr>\n",
              "      <th>3</th>\n",
              "      <td>[thrC]</td>\n",
              "      <td>[b0004]</td>\n",
              "      <td>[3733:5020](+)</td>\n",
              "      <td>[3633:3783](+)</td>\n",
              "      <td>forward</td>\n",
              "      <td>CGTTGCCGACTGGTTGGGTAAGAACTACCTGCAAAATCAGGAAGGT...</td>\n",
              "      <td>1</td>\n",
              "      <td>True</td>\n",
              "    </tr>\n",
              "    <tr>\n",
              "      <th>4</th>\n",
              "      <td>[yaaX]</td>\n",
              "      <td>[b0005]</td>\n",
              "      <td>[5233:5530](+)</td>\n",
              "      <td>[5133:5283](+)</td>\n",
              "      <td>forward</td>\n",
              "      <td>GTAACTTAGAGATTAGGATTGCGGAGAATAACAACCGCCGTTCTCA...</td>\n",
              "      <td>1</td>\n",
              "      <td>True</td>\n",
              "    </tr>\n",
              "    <tr>\n",
              "      <th>5</th>\n",
              "      <td>[yaaA]</td>\n",
              "      <td>[b0006]</td>\n",
              "      <td>[5682:6459](-)</td>\n",
              "      <td>[6409:6559](-)</td>\n",
              "      <td>reverse</td>\n",
              "      <td>GGACGCGTGGGATGATGTTTCGCAGGAGTAATCACAACTATCGATC...</td>\n",
              "      <td>1</td>\n",
              "      <td>False</td>\n",
              "    </tr>\n",
              "    <tr>\n",
              "      <th>6</th>\n",
              "      <td>[yaaJ]</td>\n",
              "      <td>[b0007]</td>\n",
              "      <td>[6528:7959](-)</td>\n",
              "      <td>[7909:8059](-)</td>\n",
              "      <td>reverse</td>\n",
              "      <td>ACGCAGAAGTTATCAAGTACCTCGTAGCGTATATACTTCTTAAACA...</td>\n",
              "      <td>1</td>\n",
              "      <td>True</td>\n",
              "    </tr>\n",
              "    <tr>\n",
              "      <th>7</th>\n",
              "      <td>[talB]</td>\n",
              "      <td>[b0008]</td>\n",
              "      <td>[8237:9191](+)</td>\n",
              "      <td>[8137:8287](+)</td>\n",
              "      <td>forward</td>\n",
              "      <td>ATAACCGTCTTGTCGGCGGTTGCGCTGACGTTGCGTCGTGATATCA...</td>\n",
              "      <td>1</td>\n",
              "      <td>False</td>\n",
              "    </tr>\n",
              "    <tr>\n",
              "      <th>8</th>\n",
              "      <td>[mog]</td>\n",
              "      <td>[b0009]</td>\n",
              "      <td>[9305:9893](+)</td>\n",
              "      <td>[9205:9355](+)</td>\n",
              "      <td>forward</td>\n",
              "      <td>ACCGGGAAGTCGGTCACGCTACCTCTTCTGAAGCCTGTCTGTCACT...</td>\n",
              "      <td>1</td>\n",
              "      <td>False</td>\n",
              "    </tr>\n",
              "    <tr>\n",
              "      <th>9</th>\n",
              "      <td>[satP]</td>\n",
              "      <td>[b0010]</td>\n",
              "      <td>[9927:10494](-)</td>\n",
              "      <td>[10444:10594](-)</td>\n",
              "      <td>reverse</td>\n",
              "      <td>CACTGCCCCACTGGCTGATTATTATGCCGCGCCCTGAAAACACTAC...</td>\n",
              "      <td>1</td>\n",
              "      <td>True</td>\n",
              "    </tr>\n",
              "  </tbody>\n",
              "</table>\n",
              "</div>"
            ],
            "text/plain": [
              "     Gene    Locus  ... Promoter Independent\n",
              "0  [thrL]  [b0001]  ...        1        True\n",
              "1  [thrA]  [b0002]  ...        1        True\n",
              "2  [thrB]  [b0003]  ...        1        True\n",
              "3  [thrC]  [b0004]  ...        1        True\n",
              "4  [yaaX]  [b0005]  ...        1        True\n",
              "5  [yaaA]  [b0006]  ...        1       False\n",
              "6  [yaaJ]  [b0007]  ...        1        True\n",
              "7  [talB]  [b0008]  ...        1       False\n",
              "8   [mog]  [b0009]  ...        1       False\n",
              "9  [satP]  [b0010]  ...        1        True\n",
              "\n",
              "[10 rows x 8 columns]"
            ]
          },
          "metadata": {
            "tags": []
          },
          "execution_count": 33
        }
      ]
    },
    {
      "cell_type": "markdown",
      "metadata": {
        "id": "ObP-HLD2alhg"
      },
      "source": [
        "# Train, Validation, and Test Sets\n",
        "\n",
        "The test set will contain 830 sequences, 415 promoters and 415 non-promoters.\n",
        "\n",
        "The validation set will contain 750 sequences, 375 promoters and 375 non-promoters."
      ]
    },
    {
      "cell_type": "code",
      "metadata": {
        "id": "f4vDEeSbalhh"
      },
      "source": [
        "test_proms = df[(df.Promoter == 1) & (df.Independent == True)][:415]\n",
        "val_proms = df[(df.Promoter == 1) & (df.Independent == True)][415:415+375]\n",
        "\n",
        "test_genes = df[(df.Promoter == 0) & (df.Independent == True)][:415]\n",
        "val_genes = df[(df.Promoter == 0) & (df.Independent == True)][415:415+375]"
      ],
      "execution_count": 34,
      "outputs": []
    },
    {
      "cell_type": "code",
      "metadata": {
        "id": "ohVWfNNsalhj"
      },
      "source": [
        "val_set = pd.concat([val_genes, val_proms])\n",
        "test_set = pd.concat([test_genes, test_proms])"
      ],
      "execution_count": 35,
      "outputs": []
    },
    {
      "cell_type": "code",
      "metadata": {
        "id": "Sq4NpUyCalhm"
      },
      "source": [
        "test_val = pd.concat([val_set, test_set])\n",
        "train_data = df[~df.index.isin(test_val.index)]"
      ],
      "execution_count": 36,
      "outputs": []
    },
    {
      "cell_type": "code",
      "metadata": {
        "id": "IoV7ll9O43iA"
      },
      "source": [
        "def save_to_fasta(filename, data):\n",
        "  with open(Path(path, filename + '.fa'), 'w') as handle:\n",
        "    for index, seq in data.iterrows():\n",
        "      SeqIO.write(SeqRecord(Seq(seq.Sequence), str(seq['Locus']) + \"_\" + seq['Sample Location'], description=\"\"), handle, 'fasta')"
      ],
      "execution_count": 48,
      "outputs": []
    },
    {
      "cell_type": "code",
      "metadata": {
        "id": "QjgeQzXE4jQS"
      },
      "source": [
        "train_data_promoter = train_data[train_data.Promoter == 1]\n",
        "save_to_fasta('positive_train', train_data_promoter)\n",
        "train_data_non_promoter = train_data[train_data.Promoter == 0]\n",
        "save_to_fasta('negative_train', train_data_promoter)"
      ],
      "execution_count": 49,
      "outputs": []
    },
    {
      "cell_type": "code",
      "metadata": {
        "id": "KgrRPg_fKeju"
      },
      "source": [
        "valid_data_promoter = val_set[val_set.Promoter == 1]\n",
        "save_to_fasta('positive_valid', valid_data_promoter)\n",
        "valid_data_non_promoter = val_set[val_set.Promoter == 0]\n",
        "save_to_fasta('negative_valid', valid_data_non_promoter)"
      ],
      "execution_count": 52,
      "outputs": []
    },
    {
      "cell_type": "code",
      "metadata": {
        "id": "2oWLHngHLAbH"
      },
      "source": [
        "test_data_promoter = test_set[test_set.Promoter == 1]\n",
        "save_to_fasta('positive_test', test_data_promoter)\n",
        "test_data_non_promoter = test_set[test_set.Promoter == 0]\n",
        "save_to_fasta('negative_test', test_data_non_promoter)"
      ],
      "execution_count": 53,
      "outputs": []
    }
  ]
}